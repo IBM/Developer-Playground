{
 "cells": [
  {
   "cell_type": "code",
   "execution_count": 12,
   "metadata": {},
   "outputs": [
    {
     "name": "stdout",
     "output_type": "stream",
     "text": [
      "Collecting path\n",
      "  Downloading path-15.0.0-py3-none-any.whl (21 kB)\n",
      "Installing collected packages: path\n",
      "Successfully installed path-15.0.0\n"
     ]
    }
   ],
   "source": [
    "# !pip install ibm_watson\n",
    "# !pip install path"
   ]
  },
  {
   "cell_type": "code",
   "execution_count": null,
   "metadata": {},
   "outputs": [],
   "source": [
    "api_key='E3aOrw9akpapy0AGiaevDEF4cxGt7znelEXcd6fFufEa'\n",
    "environment_id='7a5e5c39-7299-47b8-85ee-4993a57f93ad'\n",
    "collection_id='3c2d3572-4955-42e3-bd17-52893625cb32'\n",
    "\n",
    "folder_path='./food_reviews/food_reviews/'"
   ]
  },
  {
   "cell_type": "code",
   "execution_count": null,
   "metadata": {},
   "outputs": [
    {
     "name": "stderr",
     "output_type": "stream",
     "text": [
      "ERROR:root:Could not find listed collection\n",
      "Traceback (most recent call last):\n",
      "  File \"/Users/gurvindersingh/opt/anaconda3/envs/tf_2.0/lib/python3.7/site-packages/ibm_cloud_sdk_core/base_service.py\", line 229, in send\n",
      "    response.status_code, error_message, http_response=response)\n",
      "ibm_cloud_sdk_core.api_exception.ApiException: Error: Could not find listed collection, Code: 404 , X-global-transaction-id: 068836cecbde211e607ac30580bda9b0\n"
     ]
    },
    {
     "name": "stdout",
     "output_type": "stream",
     "text": [
      "Exception in uploading:  review_1517.json\n"
     ]
    },
    {
     "name": "stderr",
     "output_type": "stream",
     "text": [
      "ERROR:root:Could not find listed collection\n",
      "Traceback (most recent call last):\n",
      "  File \"/Users/gurvindersingh/opt/anaconda3/envs/tf_2.0/lib/python3.7/site-packages/ibm_cloud_sdk_core/base_service.py\", line 229, in send\n",
      "    response.status_code, error_message, http_response=response)\n",
      "ibm_cloud_sdk_core.api_exception.ApiException: Error: Could not find listed collection, Code: 404 , X-global-transaction-id: 0adfa670910df5c3497d5e4eea16609f\n"
     ]
    },
    {
     "name": "stdout",
     "output_type": "stream",
     "text": [
      "Exception in uploading:  review_1147.json\n"
     ]
    },
    {
     "name": "stderr",
     "output_type": "stream",
     "text": [
      "ERROR:root:Could not find listed collection\n",
      "Traceback (most recent call last):\n",
      "  File \"/Users/gurvindersingh/opt/anaconda3/envs/tf_2.0/lib/python3.7/site-packages/ibm_cloud_sdk_core/base_service.py\", line 229, in send\n",
      "    response.status_code, error_message, http_response=response)\n",
      "ibm_cloud_sdk_core.api_exception.ApiException: Error: Could not find listed collection, Code: 404 , X-global-transaction-id: 96cc0be5939b4532d31e96334a4d8a73\n"
     ]
    },
    {
     "name": "stdout",
     "output_type": "stream",
     "text": [
      "Exception in uploading:  review_0306.json\n"
     ]
    },
    {
     "name": "stderr",
     "output_type": "stream",
     "text": [
      "ERROR:root:Could not find listed collection\n",
      "Traceback (most recent call last):\n",
      "  File \"/Users/gurvindersingh/opt/anaconda3/envs/tf_2.0/lib/python3.7/site-packages/ibm_cloud_sdk_core/base_service.py\", line 229, in send\n",
      "    response.status_code, error_message, http_response=response)\n",
      "ibm_cloud_sdk_core.api_exception.ApiException: Error: Could not find listed collection, Code: 404 , X-global-transaction-id: 51dc2d98346be12b25bf5567a49cc493\n"
     ]
    },
    {
     "name": "stdout",
     "output_type": "stream",
     "text": [
      "Exception in uploading:  review_1844.json\n"
     ]
    },
    {
     "name": "stderr",
     "output_type": "stream",
     "text": [
      "ERROR:root:Could not find listed collection\n",
      "Traceback (most recent call last):\n",
      "  File \"/Users/gurvindersingh/opt/anaconda3/envs/tf_2.0/lib/python3.7/site-packages/ibm_cloud_sdk_core/base_service.py\", line 229, in send\n",
      "    response.status_code, error_message, http_response=response)\n",
      "ibm_cloud_sdk_core.api_exception.ApiException: Error: Could not find listed collection, Code: 404 , X-global-transaction-id: f71b8feb3e59eedd9ab82cdd7c388f2a\n"
     ]
    },
    {
     "name": "stdout",
     "output_type": "stream",
     "text": [
      "Exception in uploading:  review_0756.json\n"
     ]
    },
    {
     "name": "stderr",
     "output_type": "stream",
     "text": [
      "ERROR:root:Could not find listed collection\n",
      "Traceback (most recent call last):\n",
      "  File \"/Users/gurvindersingh/opt/anaconda3/envs/tf_2.0/lib/python3.7/site-packages/ibm_cloud_sdk_core/base_service.py\", line 229, in send\n",
      "    response.status_code, error_message, http_response=response)\n",
      "ibm_cloud_sdk_core.api_exception.ApiException: Error: Could not find listed collection, Code: 404 , X-global-transaction-id: bb7e8ba77e7bab3153a4403ab31d84d2\n"
     ]
    },
    {
     "name": "stdout",
     "output_type": "stream",
     "text": [
      "Exception in uploading:  review_0243.json\n"
     ]
    },
    {
     "name": "stderr",
     "output_type": "stream",
     "text": [
      "ERROR:root:Could not find listed collection\n",
      "Traceback (most recent call last):\n",
      "  File \"/Users/gurvindersingh/opt/anaconda3/envs/tf_2.0/lib/python3.7/site-packages/ibm_cloud_sdk_core/base_service.py\", line 229, in send\n",
      "    response.status_code, error_message, http_response=response)\n",
      "ibm_cloud_sdk_core.api_exception.ApiException: Error: Could not find listed collection, Code: 404 , X-global-transaction-id: b4e964481c3954e43a7d9bf9719aff7b\n"
     ]
    },
    {
     "name": "stdout",
     "output_type": "stream",
     "text": [
      "Exception in uploading:  review_1901.json\n"
     ]
    },
    {
     "name": "stderr",
     "output_type": "stream",
     "text": [
      "ERROR:root:Could not find listed collection\n",
      "Traceback (most recent call last):\n",
      "  File \"/Users/gurvindersingh/opt/anaconda3/envs/tf_2.0/lib/python3.7/site-packages/ibm_cloud_sdk_core/base_service.py\", line 229, in send\n",
      "    response.status_code, error_message, http_response=response)\n",
      "ibm_cloud_sdk_core.api_exception.ApiException: Error: Could not find listed collection, Code: 404 , X-global-transaction-id: 102ed004c4b8b66db76c63eeb0407208\n"
     ]
    },
    {
     "name": "stdout",
     "output_type": "stream",
     "text": [
      "Exception in uploading:  review_0613.json\n"
     ]
    },
    {
     "name": "stderr",
     "output_type": "stream",
     "text": [
      "ERROR:root:Could not find listed collection\n",
      "Traceback (most recent call last):\n",
      "  File \"/Users/gurvindersingh/opt/anaconda3/envs/tf_2.0/lib/python3.7/site-packages/ibm_cloud_sdk_core/base_service.py\", line 229, in send\n",
      "    response.status_code, error_message, http_response=response)\n",
      "ibm_cloud_sdk_core.api_exception.ApiException: Error: Could not find listed collection, Code: 404 , X-global-transaction-id: 0d6ae4ac7f79d9c491b1f869ae9ad45d\n"
     ]
    },
    {
     "name": "stdout",
     "output_type": "stream",
     "text": [
      "Exception in uploading:  review_1452.json\n"
     ]
    },
    {
     "name": "stderr",
     "output_type": "stream",
     "text": [
      "ERROR:root:Could not find listed collection\n",
      "Traceback (most recent call last):\n",
      "  File \"/Users/gurvindersingh/opt/anaconda3/envs/tf_2.0/lib/python3.7/site-packages/ibm_cloud_sdk_core/base_service.py\", line 229, in send\n",
      "    response.status_code, error_message, http_response=response)\n",
      "ibm_cloud_sdk_core.api_exception.ApiException: Error: Could not find listed collection, Code: 404 , X-global-transaction-id: 2c6bdf328a5f2ebaf607f5c0ffcd223c\n"
     ]
    },
    {
     "name": "stdout",
     "output_type": "stream",
     "text": [
      "Exception in uploading:  review_1002.json\n"
     ]
    },
    {
     "name": "stderr",
     "output_type": "stream",
     "text": [
      "ERROR:root:Could not find listed collection\n",
      "Traceback (most recent call last):\n",
      "  File \"/Users/gurvindersingh/opt/anaconda3/envs/tf_2.0/lib/python3.7/site-packages/ibm_cloud_sdk_core/base_service.py\", line 229, in send\n",
      "    response.status_code, error_message, http_response=response)\n",
      "ibm_cloud_sdk_core.api_exception.ApiException: Error: Could not find listed collection, Code: 404 , X-global-transaction-id: 309519be3d08f19315c346e2a84156b2\n"
     ]
    },
    {
     "name": "stdout",
     "output_type": "stream",
     "text": [
      "Exception in uploading:  review_0490.json\n"
     ]
    },
    {
     "name": "stderr",
     "output_type": "stream",
     "text": [
      "ERROR:root:Could not find listed collection\n",
      "Traceback (most recent call last):\n",
      "  File \"/Users/gurvindersingh/opt/anaconda3/envs/tf_2.0/lib/python3.7/site-packages/ibm_cloud_sdk_core/base_service.py\", line 229, in send\n",
      "    response.status_code, error_message, http_response=response)\n",
      "ibm_cloud_sdk_core.api_exception.ApiException: Error: Could not find listed collection, Code: 404 , X-global-transaction-id: b8b4d09883ac369b2ae3206ed1e76268\n"
     ]
    },
    {
     "name": "stdout",
     "output_type": "stream",
     "text": [
      "Exception in uploading:  review_0869.json\n"
     ]
    },
    {
     "name": "stderr",
     "output_type": "stream",
     "text": [
      "ERROR:root:Could not find listed collection\n",
      "Traceback (most recent call last):\n",
      "  File \"/Users/gurvindersingh/opt/anaconda3/envs/tf_2.0/lib/python3.7/site-packages/ibm_cloud_sdk_core/base_service.py\", line 229, in send\n",
      "    response.status_code, error_message, http_response=response)\n",
      "ibm_cloud_sdk_core.api_exception.ApiException: Error: Could not find listed collection, Code: 404 , X-global-transaction-id: 5655366df4301fcd5609ff9ea95d5d3c\n"
     ]
    },
    {
     "name": "stdout",
     "output_type": "stream",
     "text": [
      "Exception in uploading:  review_1281.json\n"
     ]
    },
    {
     "name": "stderr",
     "output_type": "stream",
     "text": [
      "ERROR:root:Could not find listed collection\n",
      "Traceback (most recent call last):\n",
      "  File \"/Users/gurvindersingh/opt/anaconda3/envs/tf_2.0/lib/python3.7/site-packages/ibm_cloud_sdk_core/base_service.py\", line 229, in send\n",
      "    response.status_code, error_message, http_response=response)\n",
      "ibm_cloud_sdk_core.api_exception.ApiException: Error: Could not find listed collection, Code: 404 , X-global-transaction-id: 498f1613a9ebe57690b48a829769a000\n"
     ]
    },
    {
     "name": "stdout",
     "output_type": "stream",
     "text": [
      "Exception in uploading:  review_1794.json\n"
     ]
    },
    {
     "name": "stderr",
     "output_type": "stream",
     "text": [
      "ERROR:root:Could not find listed collection\n",
      "Traceback (most recent call last):\n",
      "  File \"/Users/gurvindersingh/opt/anaconda3/envs/tf_2.0/lib/python3.7/site-packages/ibm_cloud_sdk_core/base_service.py\", line 229, in send\n",
      "    response.status_code, error_message, http_response=response)\n",
      "ibm_cloud_sdk_core.api_exception.ApiException: Error: Could not find listed collection, Code: 404 , X-global-transaction-id: 4314a1f1237f353b7830979caf46ee44\n"
     ]
    },
    {
     "name": "stdout",
     "output_type": "stream",
     "text": [
      "Exception in uploading:  review_0886.json\n"
     ]
    },
    {
     "name": "stderr",
     "output_type": "stream",
     "text": [
      "ERROR:root:Could not find listed collection\n",
      "Traceback (most recent call last):\n",
      "  File \"/Users/gurvindersingh/opt/anaconda3/envs/tf_2.0/lib/python3.7/site-packages/ibm_cloud_sdk_core/base_service.py\", line 229, in send\n",
      "    response.status_code, error_message, http_response=response)\n",
      "ibm_cloud_sdk_core.api_exception.ApiException: Error: Could not find listed collection, Code: 404 , X-global-transaction-id: 9ed2daf3c80a490eebfcf35e5a5bab78\n"
     ]
    },
    {
     "name": "stdout",
     "output_type": "stream",
     "text": [
      "Exception in uploading:  review_0185.json\n"
     ]
    },
    {
     "name": "stderr",
     "output_type": "stream",
     "text": [
      "ERROR:root:Could not find listed collection\n",
      "Traceback (most recent call last):\n",
      "  File \"/Users/gurvindersingh/opt/anaconda3/envs/tf_2.0/lib/python3.7/site-packages/ibm_cloud_sdk_core/base_service.py\", line 229, in send\n",
      "    response.status_code, error_message, http_response=response)\n",
      "ibm_cloud_sdk_core.api_exception.ApiException: Error: Could not find listed collection, Code: 404 , X-global-transaction-id: 4ca9a649660e9c11f936610b0e280745\n"
     ]
    },
    {
     "name": "stdout",
     "output_type": "stream",
     "text": [
      "Exception in uploading:  review_1813.json\n"
     ]
    },
    {
     "name": "stderr",
     "output_type": "stream",
     "text": [
      "ERROR:root:Error in service call\n",
      "Traceback (most recent call last):\n",
      "  File \"/Users/gurvindersingh/opt/anaconda3/envs/tf_2.0/lib/python3.7/site-packages/ibm_cloud_sdk_core/base_service.py\", line 208, in send\n",
      "    response = requests.request(**request, cookies=self.jar, **kwargs)\n",
      "  File \"/Users/gurvindersingh/opt/anaconda3/envs/tf_2.0/lib/python3.7/site-packages/requests/api.py\", line 61, in request\n",
      "    return session.request(method=method, url=url, **kwargs)\n",
      "  File \"/Users/gurvindersingh/opt/anaconda3/envs/tf_2.0/lib/python3.7/site-packages/requests/sessions.py\", line 530, in request\n",
      "    resp = self.send(prep, **send_kwargs)\n",
      "  File \"/Users/gurvindersingh/opt/anaconda3/envs/tf_2.0/lib/python3.7/site-packages/requests/sessions.py\", line 643, in send\n",
      "    r = adapter.send(request, **kwargs)\n",
      "  File \"/Users/gurvindersingh/opt/anaconda3/envs/tf_2.0/lib/python3.7/site-packages/requests/adapters.py\", line 449, in send\n",
      "    timeout=timeout\n",
      "  File \"/Users/gurvindersingh/opt/anaconda3/envs/tf_2.0/lib/python3.7/site-packages/urllib3/connectionpool.py\", line 672, in urlopen\n",
      "    chunked=chunked,\n",
      "  File \"/Users/gurvindersingh/opt/anaconda3/envs/tf_2.0/lib/python3.7/site-packages/urllib3/connectionpool.py\", line 421, in _make_request\n",
      "    six.raise_from(e, None)\n",
      "  File \"<string>\", line 3, in raise_from\n",
      "  File \"/Users/gurvindersingh/opt/anaconda3/envs/tf_2.0/lib/python3.7/site-packages/urllib3/connectionpool.py\", line 416, in _make_request\n",
      "    httplib_response = conn.getresponse()\n",
      "  File \"/Users/gurvindersingh/opt/anaconda3/envs/tf_2.0/lib/python3.7/http/client.py\", line 1344, in getresponse\n",
      "    response.begin()\n",
      "  File \"/Users/gurvindersingh/opt/anaconda3/envs/tf_2.0/lib/python3.7/http/client.py\", line 306, in begin\n",
      "    version, status, reason = self._read_status()\n",
      "  File \"/Users/gurvindersingh/opt/anaconda3/envs/tf_2.0/lib/python3.7/http/client.py\", line 267, in _read_status\n",
      "    line = str(self.fp.readline(_MAXLINE + 1), \"iso-8859-1\")\n",
      "  File \"/Users/gurvindersingh/opt/anaconda3/envs/tf_2.0/lib/python3.7/socket.py\", line 589, in readinto\n",
      "    return self._sock.recv_into(b)\n",
      "  File \"/Users/gurvindersingh/opt/anaconda3/envs/tf_2.0/lib/python3.7/ssl.py\", line 1071, in recv_into\n",
      "    return self.read(nbytes, buffer)\n",
      "  File \"/Users/gurvindersingh/opt/anaconda3/envs/tf_2.0/lib/python3.7/ssl.py\", line 929, in read\n",
      "    return self._sslobj.read(len, buffer)\n",
      "KeyboardInterrupt\n"
     ]
    },
    {
     "name": "stdout",
     "output_type": "stream",
     "text": [
      "Exception in uploading:  review_0701.json\n"
     ]
    },
    {
     "name": "stderr",
     "output_type": "stream",
     "text": [
      "ERROR:root:Could not find listed collection\n",
      "Traceback (most recent call last):\n",
      "  File \"/Users/gurvindersingh/opt/anaconda3/envs/tf_2.0/lib/python3.7/site-packages/ibm_cloud_sdk_core/base_service.py\", line 229, in send\n",
      "    response.status_code, error_message, http_response=response)\n",
      "ibm_cloud_sdk_core.api_exception.ApiException: Error: Could not find listed collection, Code: 404 , X-global-transaction-id: a35c2975b88bb70f192a2fb30b7959e0\n"
     ]
    },
    {
     "name": "stdout",
     "output_type": "stream",
     "text": [
      "Exception in uploading:  review_0351.json\n"
     ]
    },
    {
     "name": "stderr",
     "output_type": "stream",
     "text": [
      "ERROR:root:Could not find listed collection\n",
      "Traceback (most recent call last):\n",
      "  File \"/Users/gurvindersingh/opt/anaconda3/envs/tf_2.0/lib/python3.7/site-packages/ibm_cloud_sdk_core/base_service.py\", line 229, in send\n",
      "    response.status_code, error_message, http_response=response)\n",
      "ibm_cloud_sdk_core.api_exception.ApiException: Error: Could not find listed collection, Code: 404 , X-global-transaction-id: ab0ac6021bb8e8bf794951da00f39dd7\n"
     ]
    },
    {
     "name": "stdout",
     "output_type": "stream",
     "text": [
      "Exception in uploading:  review_1110.json\n"
     ]
    },
    {
     "name": "stderr",
     "output_type": "stream",
     "text": [
      "ERROR:root:Could not find listed collection\n",
      "Traceback (most recent call last):\n",
      "  File \"/Users/gurvindersingh/opt/anaconda3/envs/tf_2.0/lib/python3.7/site-packages/ibm_cloud_sdk_core/base_service.py\", line 229, in send\n",
      "    response.status_code, error_message, http_response=response)\n",
      "ibm_cloud_sdk_core.api_exception.ApiException: Error: Could not find listed collection, Code: 404 , X-global-transaction-id: 007f20fd25f275f85d2a97897fbbbd89\n"
     ]
    },
    {
     "name": "stdout",
     "output_type": "stream",
     "text": [
      "Exception in uploading:  review_1540.json\n"
     ]
    },
    {
     "name": "stderr",
     "output_type": "stream",
     "text": [
      "ERROR:root:Could not find listed collection\n",
      "Traceback (most recent call last):\n",
      "  File \"/Users/gurvindersingh/opt/anaconda3/envs/tf_2.0/lib/python3.7/site-packages/ibm_cloud_sdk_core/base_service.py\", line 229, in send\n",
      "    response.status_code, error_message, http_response=response)\n",
      "ibm_cloud_sdk_core.api_exception.ApiException: Error: Could not find listed collection, Code: 404 , X-global-transaction-id: b270303bdda21f49031a063a7b0ab3a4\n"
     ]
    },
    {
     "name": "stdout",
     "output_type": "stream",
     "text": [
      "Exception in uploading:  review_1055.json\n"
     ]
    },
    {
     "name": "stderr",
     "output_type": "stream",
     "text": [
      "ERROR:root:Could not find listed collection\n",
      "Traceback (most recent call last):\n",
      "  File \"/Users/gurvindersingh/opt/anaconda3/envs/tf_2.0/lib/python3.7/site-packages/ibm_cloud_sdk_core/base_service.py\", line 229, in send\n",
      "    response.status_code, error_message, http_response=response)\n",
      "ibm_cloud_sdk_core.api_exception.ApiException: Error: Could not find listed collection, Code: 404 , X-global-transaction-id: bb6769bcf1d0e391835e5863aac2635e\n"
     ]
    },
    {
     "name": "stdout",
     "output_type": "stream",
     "text": [
      "Exception in uploading:  review_1405.json\n"
     ]
    },
    {
     "name": "stderr",
     "output_type": "stream",
     "text": [
      "ERROR:root:Could not find listed collection\n",
      "Traceback (most recent call last):\n",
      "  File \"/Users/gurvindersingh/opt/anaconda3/envs/tf_2.0/lib/python3.7/site-packages/ibm_cloud_sdk_core/base_service.py\", line 229, in send\n",
      "    response.status_code, error_message, http_response=response)\n",
      "ibm_cloud_sdk_core.api_exception.ApiException: Error: Could not find listed collection, Code: 404 , X-global-transaction-id: 072ab1a38f7937d53d8eeae7aa511b5b\n"
     ]
    },
    {
     "name": "stdout",
     "output_type": "stream",
     "text": [
      "Exception in uploading:  review_1956.json\n"
     ]
    },
    {
     "name": "stderr",
     "output_type": "stream",
     "text": [
      "ERROR:root:Could not find listed collection\n",
      "Traceback (most recent call last):\n",
      "  File \"/Users/gurvindersingh/opt/anaconda3/envs/tf_2.0/lib/python3.7/site-packages/ibm_cloud_sdk_core/base_service.py\", line 229, in send\n",
      "    response.status_code, error_message, http_response=response)\n",
      "ibm_cloud_sdk_core.api_exception.ApiException: Error: Could not find listed collection, Code: 404 , X-global-transaction-id: 20c50e3e4e69ba997b1fd7113a19958d\n"
     ]
    },
    {
     "name": "stdout",
     "output_type": "stream",
     "text": [
      "Exception in uploading:  review_0644.json\n"
     ]
    },
    {
     "name": "stderr",
     "output_type": "stream",
     "text": [
      "ERROR:root:Could not find listed collection\n",
      "Traceback (most recent call last):\n",
      "  File \"/Users/gurvindersingh/opt/anaconda3/envs/tf_2.0/lib/python3.7/site-packages/ibm_cloud_sdk_core/base_service.py\", line 229, in send\n",
      "    response.status_code, error_message, http_response=response)\n",
      "ibm_cloud_sdk_core.api_exception.ApiException: Error: Could not find listed collection, Code: 404 , X-global-transaction-id: ce3b7399245cdc59bca07a26bf7fc77e\n"
     ]
    },
    {
     "name": "stdout",
     "output_type": "stream",
     "text": [
      "Exception in uploading:  review_0214.json\n"
     ]
    },
    {
     "name": "stderr",
     "output_type": "stream",
     "text": [
      "ERROR:root:Could not find listed collection\n",
      "Traceback (most recent call last):\n",
      "  File \"/Users/gurvindersingh/opt/anaconda3/envs/tf_2.0/lib/python3.7/site-packages/ibm_cloud_sdk_core/base_service.py\", line 229, in send\n",
      "    response.status_code, error_message, http_response=response)\n",
      "ibm_cloud_sdk_core.api_exception.ApiException: Error: Could not find listed collection, Code: 404 , X-global-transaction-id: cd44de5f0e704d37858902277e48f7cb\n"
     ]
    },
    {
     "name": "stdout",
     "output_type": "stream",
     "text": [
      "Exception in uploading:  review_1686.json\n"
     ]
    },
    {
     "name": "stderr",
     "output_type": "stream",
     "text": [
      "ERROR:root:Could not find listed collection\n",
      "Traceback (most recent call last):\n",
      "  File \"/Users/gurvindersingh/opt/anaconda3/envs/tf_2.0/lib/python3.7/site-packages/ibm_cloud_sdk_core/base_service.py\", line 229, in send\n",
      "    response.status_code, error_message, http_response=response)\n",
      "ibm_cloud_sdk_core.api_exception.ApiException: Error: Could not find listed collection, Code: 404 , X-global-transaction-id: 6f5872b256512ad04956deb8ba7cf8a0\n"
     ]
    },
    {
     "name": "stdout",
     "output_type": "stream",
     "text": [
      "Exception in uploading:  review_0994.json\n"
     ]
    },
    {
     "name": "stderr",
     "output_type": "stream",
     "text": [
      "ERROR:root:Could not find listed collection\n",
      "Traceback (most recent call last):\n",
      "  File \"/Users/gurvindersingh/opt/anaconda3/envs/tf_2.0/lib/python3.7/site-packages/ibm_cloud_sdk_core/base_service.py\", line 229, in send\n",
      "    response.status_code, error_message, http_response=response)\n",
      "ibm_cloud_sdk_core.api_exception.ApiException: Error: Could not find listed collection, Code: 404 , X-global-transaction-id: ad918a5ad6493c27883e0fcbe9b609e0\n"
     ]
    },
    {
     "name": "stdout",
     "output_type": "stream",
     "text": [
      "Exception in uploading:  review_0097.json\n"
     ]
    },
    {
     "name": "stderr",
     "output_type": "stream",
     "text": [
      "ERROR:root:Error in service call\n",
      "Traceback (most recent call last):\n",
      "  File \"/Users/gurvindersingh/opt/anaconda3/envs/tf_2.0/lib/python3.7/site-packages/ibm_cloud_sdk_core/base_service.py\", line 208, in send\n",
      "    response = requests.request(**request, cookies=self.jar, **kwargs)\n",
      "  File \"/Users/gurvindersingh/opt/anaconda3/envs/tf_2.0/lib/python3.7/site-packages/requests/api.py\", line 61, in request\n",
      "    return session.request(method=method, url=url, **kwargs)\n",
      "  File \"/Users/gurvindersingh/opt/anaconda3/envs/tf_2.0/lib/python3.7/site-packages/requests/sessions.py\", line 530, in request\n",
      "    resp = self.send(prep, **send_kwargs)\n",
      "  File \"/Users/gurvindersingh/opt/anaconda3/envs/tf_2.0/lib/python3.7/site-packages/requests/sessions.py\", line 643, in send\n",
      "    r = adapter.send(request, **kwargs)\n",
      "  File \"/Users/gurvindersingh/opt/anaconda3/envs/tf_2.0/lib/python3.7/site-packages/requests/adapters.py\", line 449, in send\n",
      "    timeout=timeout\n",
      "  File \"/Users/gurvindersingh/opt/anaconda3/envs/tf_2.0/lib/python3.7/site-packages/urllib3/connectionpool.py\", line 672, in urlopen\n",
      "    chunked=chunked,\n",
      "  File \"/Users/gurvindersingh/opt/anaconda3/envs/tf_2.0/lib/python3.7/site-packages/urllib3/connectionpool.py\", line 421, in _make_request\n",
      "    six.raise_from(e, None)\n",
      "  File \"<string>\", line 3, in raise_from\n",
      "  File \"/Users/gurvindersingh/opt/anaconda3/envs/tf_2.0/lib/python3.7/site-packages/urllib3/connectionpool.py\", line 416, in _make_request\n",
      "    httplib_response = conn.getresponse()\n",
      "  File \"/Users/gurvindersingh/opt/anaconda3/envs/tf_2.0/lib/python3.7/http/client.py\", line 1344, in getresponse\n",
      "    response.begin()\n",
      "  File \"/Users/gurvindersingh/opt/anaconda3/envs/tf_2.0/lib/python3.7/http/client.py\", line 306, in begin\n",
      "    version, status, reason = self._read_status()\n",
      "  File \"/Users/gurvindersingh/opt/anaconda3/envs/tf_2.0/lib/python3.7/http/client.py\", line 267, in _read_status\n",
      "    line = str(self.fp.readline(_MAXLINE + 1), \"iso-8859-1\")\n",
      "  File \"/Users/gurvindersingh/opt/anaconda3/envs/tf_2.0/lib/python3.7/socket.py\", line 589, in readinto\n",
      "    return self._sock.recv_into(b)\n",
      "  File \"/Users/gurvindersingh/opt/anaconda3/envs/tf_2.0/lib/python3.7/ssl.py\", line 1071, in recv_into\n",
      "    return self.read(nbytes, buffer)\n",
      "  File \"/Users/gurvindersingh/opt/anaconda3/envs/tf_2.0/lib/python3.7/ssl.py\", line 929, in read\n",
      "    return self._sslobj.read(len, buffer)\n",
      "KeyboardInterrupt\n"
     ]
    },
    {
     "name": "stdout",
     "output_type": "stream",
     "text": [
      "Exception in uploading:  review_0078.json\n"
     ]
    },
    {
     "name": "stderr",
     "output_type": "stream",
     "text": [
      "ERROR:root:Could not find listed collection\n",
      "Traceback (most recent call last):\n",
      "  File \"/Users/gurvindersingh/opt/anaconda3/envs/tf_2.0/lib/python3.7/site-packages/ibm_cloud_sdk_core/base_service.py\", line 229, in send\n",
      "    response.status_code, error_message, http_response=response)\n",
      "ibm_cloud_sdk_core.api_exception.ApiException: Error: Could not find listed collection, Code: 404 , X-global-transaction-id: 5db57ffdecf5c9acdc92d73ea773f17d\n"
     ]
    },
    {
     "name": "stdout",
     "output_type": "stream",
     "text": [
      "Exception in uploading:  review_0582.json\n"
     ]
    },
    {
     "name": "stderr",
     "output_type": "stream",
     "text": [
      "ERROR:root:Could not find listed collection\n",
      "Traceback (most recent call last):\n",
      "  File \"/Users/gurvindersingh/opt/anaconda3/envs/tf_2.0/lib/python3.7/site-packages/ibm_cloud_sdk_core/base_service.py\", line 229, in send\n",
      "    response.status_code, error_message, http_response=response)\n",
      "ibm_cloud_sdk_core.api_exception.ApiException: Error: Could not find listed collection, Code: 404 , X-global-transaction-id: 73f3d489449c749231f635fff41e9470\n"
     ]
    },
    {
     "name": "stdout",
     "output_type": "stream",
     "text": [
      "Exception in uploading:  review_0428.json\n"
     ]
    },
    {
     "name": "stderr",
     "output_type": "stream",
     "text": [
      "ERROR:root:Could not find listed collection\n",
      "Traceback (most recent call last):\n",
      "  File \"/Users/gurvindersingh/opt/anaconda3/envs/tf_2.0/lib/python3.7/site-packages/ibm_cloud_sdk_core/base_service.py\", line 229, in send\n",
      "    response.status_code, error_message, http_response=response)\n",
      "ibm_cloud_sdk_core.api_exception.ApiException: Error: Could not find listed collection, Code: 404 , X-global-transaction-id: 68f46ee9f3d0c104743e491813f84306\n"
     ]
    },
    {
     "name": "stdout",
     "output_type": "stream",
     "text": [
      "Exception in uploading:  review_1669.json\n"
     ]
    }
   ],
   "source": [
    "import json\n",
    "from os import walk\n",
    "from ibm_watson import DiscoveryV1\n",
    "from ibm_cloud_sdk_core.authenticators import IAMAuthenticator\n",
    "\n",
    "authenticator = IAMAuthenticator(api_key)\n",
    "discovery = DiscoveryV1(\n",
    "    version='2019-04-30',\n",
    "    authenticator=authenticator\n",
    ")\n",
    "\n",
    "discovery.set_service_url('https://gateway.watsonplatform.net/discovery/api')\n",
    "\n",
    "for (dirpath, dirnames, filenames) in walk(folder_path):\n",
    "    break\n",
    "\n",
    "count = 0\n",
    "files_uploaded = []\n",
    "for file in filenames:\n",
    "    count = count + 1\n",
    "    with open(folder_path+file) as fileinfo:\n",
    "        try:\n",
    "            add_doc = discovery.add_document(\n",
    "                environment_id,\n",
    "                collection_id,\n",
    "                file=fileinfo).get_result()\n",
    "            files_uploaded.append(add_doc)\n",
    "        except:\n",
    "            print ('Exception in uploading: ', file)\n",
    "        \n",
    "        \n",
    "print('Total Files Uploaded: ', len(files_uploaded))\n",
    "\n",
    "# print(json.dumps(add_doc, indent=2))"
   ]
  }
 ],
 "metadata": {
  "kernelspec": {
   "display_name": "Python 3",
   "language": "python",
   "name": "python3"
  },
  "language_info": {
   "codemirror_mode": {
    "name": "ipython",
    "version": 3
   },
   "file_extension": ".py",
   "mimetype": "text/x-python",
   "name": "python",
   "nbconvert_exporter": "python",
   "pygments_lexer": "ipython3",
   "version": "3.7.6"
  }
 },
 "nbformat": 4,
 "nbformat_minor": 4
}
