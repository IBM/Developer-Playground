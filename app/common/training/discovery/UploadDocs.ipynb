{
 "cells": [
  {
   "cell_type": "code",
   "execution_count": 12,
   "metadata": {},
   "outputs": [
    {
     "name": "stdout",
     "output_type": "stream",
     "text": [
      "Collecting path\n",
      "  Downloading path-15.0.0-py3-none-any.whl (21 kB)\n",
      "Installing collected packages: path\n",
      "Successfully installed path-15.0.0\n"
     ]
    }
   ],
   "source": [
    "# !pip install ibm_watson\n",
    "# !pip install path"
   ]
  },
  {
   "cell_type": "code",
   "execution_count": 2,
   "metadata": {},
   "outputs": [],
   "source": [
    "api_key='REPLACE_WITH_API_KEY'\n",
    "environment_id='REPLACE_WITH_ENV_ID'\n",
    "collection_id='REPLACE_WITH_COLLECTION_ID'\n",
    "\n",
    "folder_path='./food_reviews/food_reviews/'"
   ]
  },
  {
   "cell_type": "code",
   "execution_count": null,
   "metadata": {},
   "outputs": [
    {
     "name": "stderr",
     "output_type": "stream",
     "text": [
      "ERROR:root:Unable to upload document. Your plan is at the document count limit of 1000 documents. Please consider upgrading your plan to receive a higher document count limit.\n",
      "Traceback (most recent call last):\n",
      "  File \"/Users/gurvindersingh/opt/anaconda3/envs/tf_2.0/lib/python3.7/site-packages/ibm_cloud_sdk_core/base_service.py\", line 229, in send\n",
      "    response.status_code, error_message, http_response=response)\n",
      "ibm_cloud_sdk_core.api_exception.ApiException: Error: Unable to upload document. Your plan is at the document count limit of 1000 documents. Please consider upgrading your plan to receive a higher document count limit., Code: 400 , X-global-transaction-id: 2804eacffdd5acb2e2feb0c0a9b5f2ae\n"
     ]
    },
    {
     "name": "stdout",
     "output_type": "stream",
     "text": [
      "Exception in uploading:  review_0068.json\n",
      "Total Files Uploaded:  0\n"
     ]
    },
    {
     "name": "stderr",
     "output_type": "stream",
     "text": [
      "ERROR:root:Unable to upload document. Your plan is at the document count limit of 1000 documents. Please consider upgrading your plan to receive a higher document count limit.\n",
      "Traceback (most recent call last):\n",
      "  File \"/Users/gurvindersingh/opt/anaconda3/envs/tf_2.0/lib/python3.7/site-packages/ibm_cloud_sdk_core/base_service.py\", line 229, in send\n",
      "    response.status_code, error_message, http_response=response)\n",
      "ibm_cloud_sdk_core.api_exception.ApiException: Error: Unable to upload document. Your plan is at the document count limit of 1000 documents. Please consider upgrading your plan to receive a higher document count limit., Code: 400 , X-global-transaction-id: 302385248e593618b2744892b7b9afc3\n"
     ]
    },
    {
     "name": "stdout",
     "output_type": "stream",
     "text": [
      "Exception in uploading:  review_0592.json\n",
      "Total Files Uploaded:  0\n"
     ]
    },
    {
     "name": "stderr",
     "output_type": "stream",
     "text": [
      "ERROR:root:Unable to upload document. Your plan is at the document count limit of 1000 documents. Please consider upgrading your plan to receive a higher document count limit.\n",
      "Traceback (most recent call last):\n",
      "  File \"/Users/gurvindersingh/opt/anaconda3/envs/tf_2.0/lib/python3.7/site-packages/ibm_cloud_sdk_core/base_service.py\", line 229, in send\n",
      "    response.status_code, error_message, http_response=response)\n",
      "ibm_cloud_sdk_core.api_exception.ApiException: Error: Unable to upload document. Your plan is at the document count limit of 1000 documents. Please consider upgrading your plan to receive a higher document count limit., Code: 400 , X-global-transaction-id: 41d8c3e9ee6c0080edb46ffa2adf71e7\n"
     ]
    },
    {
     "name": "stdout",
     "output_type": "stream",
     "text": [
      "Exception in uploading:  review_1229.json\n",
      "Total Files Uploaded:  0\n"
     ]
    },
    {
     "name": "stderr",
     "output_type": "stream",
     "text": [
      "ERROR:root:Unable to upload document. Your plan is at the document count limit of 1000 documents. Please consider upgrading your plan to receive a higher document count limit.\n",
      "Traceback (most recent call last):\n",
      "  File \"/Users/gurvindersingh/opt/anaconda3/envs/tf_2.0/lib/python3.7/site-packages/ibm_cloud_sdk_core/base_service.py\", line 229, in send\n",
      "    response.status_code, error_message, http_response=response)\n",
      "ibm_cloud_sdk_core.api_exception.ApiException: Error: Unable to upload document. Your plan is at the document count limit of 1000 documents. Please consider upgrading your plan to receive a higher document count limit., Code: 400 , X-global-transaction-id: 62068e4844bb5421c9ad693704d999a8\n"
     ]
    },
    {
     "name": "stdout",
     "output_type": "stream",
     "text": [
      "Exception in uploading:  review_1679.json\n",
      "Total Files Uploaded:  0\n"
     ]
    },
    {
     "name": "stderr",
     "output_type": "stream",
     "text": [
      "ERROR:root:Unable to upload document. Your plan is at the document count limit of 1000 documents. Please consider upgrading your plan to receive a higher document count limit.\n",
      "Traceback (most recent call last):\n",
      "  File \"/Users/gurvindersingh/opt/anaconda3/envs/tf_2.0/lib/python3.7/site-packages/ibm_cloud_sdk_core/base_service.py\", line 229, in send\n",
      "    response.status_code, error_message, http_response=response)\n",
      "ibm_cloud_sdk_core.api_exception.ApiException: Error: Unable to upload document. Your plan is at the document count limit of 1000 documents. Please consider upgrading your plan to receive a higher document count limit., Code: 400 , X-global-transaction-id: f7197f1dbc2c21f8c2c0ac51550a9904\n"
     ]
    },
    {
     "name": "stdout",
     "output_type": "stream",
     "text": [
      "Exception in uploading:  review_1383.json\n",
      "Total Files Uploaded:  0\n"
     ]
    },
    {
     "name": "stderr",
     "output_type": "stream",
     "text": [
      "ERROR:root:Unable to upload document. Your plan is at the document count limit of 1000 documents. Please consider upgrading your plan to receive a higher document count limit.\n",
      "Traceback (most recent call last):\n",
      "  File \"/Users/gurvindersingh/opt/anaconda3/envs/tf_2.0/lib/python3.7/site-packages/ibm_cloud_sdk_core/base_service.py\", line 229, in send\n",
      "    response.status_code, error_message, http_response=response)\n",
      "ibm_cloud_sdk_core.api_exception.ApiException: Error: Unable to upload document. Your plan is at the document count limit of 1000 documents. Please consider upgrading your plan to receive a higher document count limit., Code: 400 , X-global-transaction-id: 408cf402588f41228f2244b297826eb7\n"
     ]
    },
    {
     "name": "stdout",
     "output_type": "stream",
     "text": [
      "Exception in uploading:  review_1157.json\n",
      "Total Files Uploaded:  0\n"
     ]
    },
    {
     "name": "stderr",
     "output_type": "stream",
     "text": [
      "ERROR:root:Unable to upload document. Your plan is at the document count limit of 1000 documents. Please consider upgrading your plan to receive a higher document count limit.\n",
      "Traceback (most recent call last):\n",
      "  File \"/Users/gurvindersingh/opt/anaconda3/envs/tf_2.0/lib/python3.7/site-packages/ibm_cloud_sdk_core/base_service.py\", line 229, in send\n",
      "    response.status_code, error_message, http_response=response)\n",
      "ibm_cloud_sdk_core.api_exception.ApiException: Error: Unable to upload document. Your plan is at the document count limit of 1000 documents. Please consider upgrading your plan to receive a higher document count limit., Code: 400 , X-global-transaction-id: 9893ccca048b46cfd5417ac7e6900c5b\n"
     ]
    },
    {
     "name": "stdout",
     "output_type": "stream",
     "text": [
      "Exception in uploading:  review_1507.json\n",
      "Total Files Uploaded:  0\n"
     ]
    },
    {
     "name": "stderr",
     "output_type": "stream",
     "text": [
      "ERROR:root:Unable to upload document. Your plan is at the document count limit of 1000 documents. Please consider upgrading your plan to receive a higher document count limit.\n",
      "Traceback (most recent call last):\n",
      "  File \"/Users/gurvindersingh/opt/anaconda3/envs/tf_2.0/lib/python3.7/site-packages/ibm_cloud_sdk_core/base_service.py\", line 229, in send\n",
      "    response.status_code, error_message, http_response=response)\n",
      "ibm_cloud_sdk_core.api_exception.ApiException: Error: Unable to upload document. Your plan is at the document count limit of 1000 documents. Please consider upgrading your plan to receive a higher document count limit., Code: 400 , X-global-transaction-id: 77a75908759f9401c57afc247d0dd258\n"
     ]
    },
    {
     "name": "stdout",
     "output_type": "stream",
     "text": [
      "Exception in uploading:  review_0746.json\n",
      "Total Files Uploaded:  0\n"
     ]
    },
    {
     "name": "stderr",
     "output_type": "stream",
     "text": [
      "ERROR:root:Unable to upload document. Your plan is at the document count limit of 1000 documents. Please consider upgrading your plan to receive a higher document count limit.\n",
      "Traceback (most recent call last):\n",
      "  File \"/Users/gurvindersingh/opt/anaconda3/envs/tf_2.0/lib/python3.7/site-packages/ibm_cloud_sdk_core/base_service.py\", line 229, in send\n",
      "    response.status_code, error_message, http_response=response)\n",
      "ibm_cloud_sdk_core.api_exception.ApiException: Error: Unable to upload document. Your plan is at the document count limit of 1000 documents. Please consider upgrading your plan to receive a higher document count limit., Code: 400 , X-global-transaction-id: b61ee08bf81de56a83a4607413f1369b\n"
     ]
    },
    {
     "name": "stdout",
     "output_type": "stream",
     "text": [
      "Exception in uploading:  review_1854.json\n",
      "Total Files Uploaded:  0\n"
     ]
    },
    {
     "name": "stderr",
     "output_type": "stream",
     "text": [
      "ERROR:root:Unable to upload document. Your plan is at the document count limit of 1000 documents. Please consider upgrading your plan to receive a higher document count limit.\n",
      "Traceback (most recent call last):\n",
      "  File \"/Users/gurvindersingh/opt/anaconda3/envs/tf_2.0/lib/python3.7/site-packages/ibm_cloud_sdk_core/base_service.py\", line 229, in send\n",
      "    response.status_code, error_message, http_response=response)\n",
      "ibm_cloud_sdk_core.api_exception.ApiException: Error: Unable to upload document. Your plan is at the document count limit of 1000 documents. Please consider upgrading your plan to receive a higher document count limit., Code: 400 , X-global-transaction-id: 085dc9b1f6d3fae2eb02659c866a60dd\n"
     ]
    },
    {
     "name": "stdout",
     "output_type": "stream",
     "text": [
      "Exception in uploading:  review_0316.json\n",
      "Total Files Uploaded:  0\n"
     ]
    },
    {
     "name": "stderr",
     "output_type": "stream",
     "text": [
      "ERROR:root:Unable to upload document. Your plan is at the document count limit of 1000 documents. Please consider upgrading your plan to receive a higher document count limit.\n",
      "Traceback (most recent call last):\n",
      "  File \"/Users/gurvindersingh/opt/anaconda3/envs/tf_2.0/lib/python3.7/site-packages/ibm_cloud_sdk_core/base_service.py\", line 229, in send\n",
      "    response.status_code, error_message, http_response=response)\n",
      "ibm_cloud_sdk_core.api_exception.ApiException: Error: Unable to upload document. Your plan is at the document count limit of 1000 documents. Please consider upgrading your plan to receive a higher document count limit., Code: 400 , X-global-transaction-id: bd0b2c14631eb657a08c3f4d8061152f\n"
     ]
    },
    {
     "name": "stdout",
     "output_type": "stream",
     "text": [
      "Exception in uploading:  review_0603.json\n",
      "Total Files Uploaded:  0\n"
     ]
    },
    {
     "name": "stderr",
     "output_type": "stream",
     "text": [
      "ERROR:root:Unable to upload document. Your plan is at the document count limit of 1000 documents. Please consider upgrading your plan to receive a higher document count limit.\n",
      "Traceback (most recent call last):\n",
      "  File \"/Users/gurvindersingh/opt/anaconda3/envs/tf_2.0/lib/python3.7/site-packages/ibm_cloud_sdk_core/base_service.py\", line 229, in send\n",
      "    response.status_code, error_message, http_response=response)\n",
      "ibm_cloud_sdk_core.api_exception.ApiException: Error: Unable to upload document. Your plan is at the document count limit of 1000 documents. Please consider upgrading your plan to receive a higher document count limit., Code: 400 , X-global-transaction-id: 8ac81e978d3de2457bee98ff2fad4241\n"
     ]
    },
    {
     "name": "stdout",
     "output_type": "stream",
     "text": [
      "Exception in uploading:  review_1911.json\n",
      "Total Files Uploaded:  0\n"
     ]
    },
    {
     "name": "stderr",
     "output_type": "stream",
     "text": [
      "ERROR:root:Unable to upload document. Your plan is at the document count limit of 1000 documents. Please consider upgrading your plan to receive a higher document count limit.\n",
      "Traceback (most recent call last):\n",
      "  File \"/Users/gurvindersingh/opt/anaconda3/envs/tf_2.0/lib/python3.7/site-packages/ibm_cloud_sdk_core/base_service.py\", line 229, in send\n",
      "    response.status_code, error_message, http_response=response)\n",
      "ibm_cloud_sdk_core.api_exception.ApiException: Error: Unable to upload document. Your plan is at the document count limit of 1000 documents. Please consider upgrading your plan to receive a higher document count limit., Code: 400 , X-global-transaction-id: 15200500953b5d2db4d8388b5823caf6\n"
     ]
    },
    {
     "name": "stdout",
     "output_type": "stream",
     "text": [
      "Exception in uploading:  review_0253.json\n",
      "Total Files Uploaded:  0\n"
     ]
    },
    {
     "name": "stderr",
     "output_type": "stream",
     "text": [
      "ERROR:root:Unable to upload document. Your plan is at the document count limit of 1000 documents. Please consider upgrading your plan to receive a higher document count limit.\n",
      "Traceback (most recent call last):\n",
      "  File \"/Users/gurvindersingh/opt/anaconda3/envs/tf_2.0/lib/python3.7/site-packages/ibm_cloud_sdk_core/base_service.py\", line 229, in send\n",
      "    response.status_code, error_message, http_response=response)\n",
      "ibm_cloud_sdk_core.api_exception.ApiException: Error: Unable to upload document. Your plan is at the document count limit of 1000 documents. Please consider upgrading your plan to receive a higher document count limit., Code: 400 , X-global-transaction-id: 687b1b4f76dcff66bbc7611be94f3011\n"
     ]
    },
    {
     "name": "stdout",
     "output_type": "stream",
     "text": [
      "Exception in uploading:  review_1012.json\n",
      "Total Files Uploaded:  0\n"
     ]
    },
    {
     "name": "stderr",
     "output_type": "stream",
     "text": [
      "ERROR:root:Error in service call\n",
      "Traceback (most recent call last):\n",
      "  File \"/Users/gurvindersingh/opt/anaconda3/envs/tf_2.0/lib/python3.7/site-packages/ibm_cloud_sdk_core/base_service.py\", line 208, in send\n",
      "    response = requests.request(**request, cookies=self.jar, **kwargs)\n",
      "  File \"/Users/gurvindersingh/opt/anaconda3/envs/tf_2.0/lib/python3.7/site-packages/requests/api.py\", line 61, in request\n",
      "    return session.request(method=method, url=url, **kwargs)\n",
      "  File \"/Users/gurvindersingh/opt/anaconda3/envs/tf_2.0/lib/python3.7/site-packages/requests/sessions.py\", line 530, in request\n",
      "    resp = self.send(prep, **send_kwargs)\n",
      "  File \"/Users/gurvindersingh/opt/anaconda3/envs/tf_2.0/lib/python3.7/site-packages/requests/sessions.py\", line 643, in send\n",
      "    r = adapter.send(request, **kwargs)\n",
      "  File \"/Users/gurvindersingh/opt/anaconda3/envs/tf_2.0/lib/python3.7/site-packages/requests/adapters.py\", line 449, in send\n",
      "    timeout=timeout\n",
      "  File \"/Users/gurvindersingh/opt/anaconda3/envs/tf_2.0/lib/python3.7/site-packages/urllib3/connectionpool.py\", line 672, in urlopen\n",
      "    chunked=chunked,\n",
      "  File \"/Users/gurvindersingh/opt/anaconda3/envs/tf_2.0/lib/python3.7/site-packages/urllib3/connectionpool.py\", line 421, in _make_request\n",
      "    six.raise_from(e, None)\n",
      "  File \"<string>\", line 3, in raise_from\n",
      "  File \"/Users/gurvindersingh/opt/anaconda3/envs/tf_2.0/lib/python3.7/site-packages/urllib3/connectionpool.py\", line 416, in _make_request\n",
      "    httplib_response = conn.getresponse()\n",
      "  File \"/Users/gurvindersingh/opt/anaconda3/envs/tf_2.0/lib/python3.7/http/client.py\", line 1344, in getresponse\n",
      "    response.begin()\n",
      "  File \"/Users/gurvindersingh/opt/anaconda3/envs/tf_2.0/lib/python3.7/http/client.py\", line 306, in begin\n",
      "    version, status, reason = self._read_status()\n",
      "  File \"/Users/gurvindersingh/opt/anaconda3/envs/tf_2.0/lib/python3.7/http/client.py\", line 267, in _read_status\n",
      "    line = str(self.fp.readline(_MAXLINE + 1), \"iso-8859-1\")\n",
      "  File \"/Users/gurvindersingh/opt/anaconda3/envs/tf_2.0/lib/python3.7/socket.py\", line 589, in readinto\n",
      "    return self._sock.recv_into(b)\n",
      "  File \"/Users/gurvindersingh/opt/anaconda3/envs/tf_2.0/lib/python3.7/ssl.py\", line 1071, in recv_into\n",
      "    return self.read(nbytes, buffer)\n",
      "  File \"/Users/gurvindersingh/opt/anaconda3/envs/tf_2.0/lib/python3.7/ssl.py\", line 929, in read\n",
      "    return self._sslobj.read(len, buffer)\n",
      "KeyboardInterrupt\n"
     ]
    },
    {
     "name": "stdout",
     "output_type": "stream",
     "text": [
      "Exception in uploading:  review_1442.json\n",
      "Total Files Uploaded:  0\n"
     ]
    },
    {
     "name": "stderr",
     "output_type": "stream",
     "text": [
      "ERROR:root:Unable to upload document. Your plan is at the document count limit of 1000 documents. Please consider upgrading your plan to receive a higher document count limit.\n",
      "Traceback (most recent call last):\n",
      "  File \"/Users/gurvindersingh/opt/anaconda3/envs/tf_2.0/lib/python3.7/site-packages/ibm_cloud_sdk_core/base_service.py\", line 229, in send\n",
      "    response.status_code, error_message, http_response=response)\n",
      "ibm_cloud_sdk_core.api_exception.ApiException: Error: Unable to upload document. Your plan is at the document count limit of 1000 documents. Please consider upgrading your plan to receive a higher document count limit., Code: 400 , X-global-transaction-id: 4319fe26a8228f4f2e40aed1dd1c1b58\n"
     ]
    },
    {
     "name": "stdout",
     "output_type": "stream",
     "text": [
      "Exception in uploading:  review_0480.json\n",
      "Total Files Uploaded:  0\n"
     ]
    },
    {
     "name": "stderr",
     "output_type": "stream",
     "text": [
      "ERROR:root:Error in service call\n",
      "Traceback (most recent call last):\n",
      "  File \"/Users/gurvindersingh/opt/anaconda3/envs/tf_2.0/lib/python3.7/site-packages/ibm_cloud_sdk_core/base_service.py\", line 208, in send\n",
      "    response = requests.request(**request, cookies=self.jar, **kwargs)\n",
      "  File \"/Users/gurvindersingh/opt/anaconda3/envs/tf_2.0/lib/python3.7/site-packages/requests/api.py\", line 61, in request\n",
      "    return session.request(method=method, url=url, **kwargs)\n",
      "  File \"/Users/gurvindersingh/opt/anaconda3/envs/tf_2.0/lib/python3.7/site-packages/requests/sessions.py\", line 530, in request\n",
      "    resp = self.send(prep, **send_kwargs)\n",
      "  File \"/Users/gurvindersingh/opt/anaconda3/envs/tf_2.0/lib/python3.7/site-packages/requests/sessions.py\", line 643, in send\n",
      "    r = adapter.send(request, **kwargs)\n",
      "  File \"/Users/gurvindersingh/opt/anaconda3/envs/tf_2.0/lib/python3.7/site-packages/requests/adapters.py\", line 449, in send\n",
      "    timeout=timeout\n",
      "  File \"/Users/gurvindersingh/opt/anaconda3/envs/tf_2.0/lib/python3.7/site-packages/urllib3/connectionpool.py\", line 672, in urlopen\n",
      "    chunked=chunked,\n",
      "  File \"/Users/gurvindersingh/opt/anaconda3/envs/tf_2.0/lib/python3.7/site-packages/urllib3/connectionpool.py\", line 421, in _make_request\n",
      "    six.raise_from(e, None)\n",
      "  File \"<string>\", line 3, in raise_from\n",
      "  File \"/Users/gurvindersingh/opt/anaconda3/envs/tf_2.0/lib/python3.7/site-packages/urllib3/connectionpool.py\", line 416, in _make_request\n",
      "    httplib_response = conn.getresponse()\n",
      "  File \"/Users/gurvindersingh/opt/anaconda3/envs/tf_2.0/lib/python3.7/http/client.py\", line 1344, in getresponse\n",
      "    response.begin()\n",
      "  File \"/Users/gurvindersingh/opt/anaconda3/envs/tf_2.0/lib/python3.7/http/client.py\", line 306, in begin\n",
      "    version, status, reason = self._read_status()\n",
      "  File \"/Users/gurvindersingh/opt/anaconda3/envs/tf_2.0/lib/python3.7/http/client.py\", line 267, in _read_status\n",
      "    line = str(self.fp.readline(_MAXLINE + 1), \"iso-8859-1\")\n",
      "  File \"/Users/gurvindersingh/opt/anaconda3/envs/tf_2.0/lib/python3.7/socket.py\", line 589, in readinto\n",
      "    return self._sock.recv_into(b)\n",
      "  File \"/Users/gurvindersingh/opt/anaconda3/envs/tf_2.0/lib/python3.7/ssl.py\", line 1071, in recv_into\n",
      "    return self.read(nbytes, buffer)\n",
      "  File \"/Users/gurvindersingh/opt/anaconda3/envs/tf_2.0/lib/python3.7/ssl.py\", line 929, in read\n",
      "    return self._sslobj.read(len, buffer)\n",
      "KeyboardInterrupt\n",
      "ERROR:root:Error in service call\n",
      "Traceback (most recent call last):\n",
      "  File \"/Users/gurvindersingh/opt/anaconda3/envs/tf_2.0/lib/python3.7/site-packages/ibm_cloud_sdk_core/base_service.py\", line 208, in send\n",
      "    response = requests.request(**request, cookies=self.jar, **kwargs)\n",
      "  File \"/Users/gurvindersingh/opt/anaconda3/envs/tf_2.0/lib/python3.7/site-packages/requests/api.py\", line 61, in request\n",
      "    return session.request(method=method, url=url, **kwargs)\n",
      "  File \"/Users/gurvindersingh/opt/anaconda3/envs/tf_2.0/lib/python3.7/site-packages/requests/sessions.py\", line 530, in request\n",
      "    resp = self.send(prep, **send_kwargs)\n",
      "  File \"/Users/gurvindersingh/opt/anaconda3/envs/tf_2.0/lib/python3.7/site-packages/requests/sessions.py\", line 643, in send\n",
      "    r = adapter.send(request, **kwargs)\n",
      "  File \"/Users/gurvindersingh/opt/anaconda3/envs/tf_2.0/lib/python3.7/site-packages/requests/adapters.py\", line 449, in send\n",
      "    timeout=timeout\n",
      "  File \"/Users/gurvindersingh/opt/anaconda3/envs/tf_2.0/lib/python3.7/site-packages/urllib3/connectionpool.py\", line 672, in urlopen\n",
      "    chunked=chunked,\n",
      "  File \"/Users/gurvindersingh/opt/anaconda3/envs/tf_2.0/lib/python3.7/site-packages/urllib3/connectionpool.py\", line 376, in _make_request\n",
      "    self._validate_conn(conn)\n",
      "  File \"/Users/gurvindersingh/opt/anaconda3/envs/tf_2.0/lib/python3.7/site-packages/urllib3/connectionpool.py\", line 994, in _validate_conn\n",
      "    conn.connect()\n",
      "  File \"/Users/gurvindersingh/opt/anaconda3/envs/tf_2.0/lib/python3.7/site-packages/urllib3/connection.py\", line 360, in connect\n",
      "    ssl_context=context,\n",
      "  File \"/Users/gurvindersingh/opt/anaconda3/envs/tf_2.0/lib/python3.7/site-packages/urllib3/util/ssl_.py\", line 370, in ssl_wrap_socket\n",
      "    return context.wrap_socket(sock, server_hostname=server_hostname)\n",
      "  File \"/Users/gurvindersingh/opt/anaconda3/envs/tf_2.0/lib/python3.7/ssl.py\", line 423, in wrap_socket\n",
      "    session=session\n",
      "  File \"/Users/gurvindersingh/opt/anaconda3/envs/tf_2.0/lib/python3.7/ssl.py\", line 870, in _create\n",
      "    self.do_handshake()\n",
      "  File \"/Users/gurvindersingh/opt/anaconda3/envs/tf_2.0/lib/python3.7/ssl.py\", line 1139, in do_handshake\n",
      "    self._sslobj.do_handshake()\n",
      "KeyboardInterrupt\n"
     ]
    },
    {
     "name": "stdout",
     "output_type": "stream",
     "text": [
      "Exception in uploading:  review_0879.json\n",
      "Total Files Uploaded:  0\n",
      "Exception in uploading:  review_1291.json\n",
      "Total Files Uploaded:  0\n"
     ]
    },
    {
     "name": "stderr",
     "output_type": "stream",
     "text": [
      "ERROR:root:Error in service call\n",
      "Traceback (most recent call last):\n",
      "  File \"/Users/gurvindersingh/opt/anaconda3/envs/tf_2.0/lib/python3.7/site-packages/ibm_cloud_sdk_core/base_service.py\", line 208, in send\n",
      "    response = requests.request(**request, cookies=self.jar, **kwargs)\n",
      "  File \"/Users/gurvindersingh/opt/anaconda3/envs/tf_2.0/lib/python3.7/site-packages/requests/api.py\", line 61, in request\n",
      "    return session.request(method=method, url=url, **kwargs)\n",
      "  File \"/Users/gurvindersingh/opt/anaconda3/envs/tf_2.0/lib/python3.7/site-packages/requests/sessions.py\", line 530, in request\n",
      "    resp = self.send(prep, **send_kwargs)\n",
      "  File \"/Users/gurvindersingh/opt/anaconda3/envs/tf_2.0/lib/python3.7/site-packages/requests/sessions.py\", line 643, in send\n",
      "    r = adapter.send(request, **kwargs)\n",
      "  File \"/Users/gurvindersingh/opt/anaconda3/envs/tf_2.0/lib/python3.7/site-packages/requests/adapters.py\", line 449, in send\n",
      "    timeout=timeout\n",
      "  File \"/Users/gurvindersingh/opt/anaconda3/envs/tf_2.0/lib/python3.7/site-packages/urllib3/connectionpool.py\", line 672, in urlopen\n",
      "    chunked=chunked,\n",
      "  File \"/Users/gurvindersingh/opt/anaconda3/envs/tf_2.0/lib/python3.7/site-packages/urllib3/connectionpool.py\", line 376, in _make_request\n",
      "    self._validate_conn(conn)\n",
      "  File \"/Users/gurvindersingh/opt/anaconda3/envs/tf_2.0/lib/python3.7/site-packages/urllib3/connectionpool.py\", line 994, in _validate_conn\n",
      "    conn.connect()\n",
      "  File \"/Users/gurvindersingh/opt/anaconda3/envs/tf_2.0/lib/python3.7/site-packages/urllib3/connection.py\", line 360, in connect\n",
      "    ssl_context=context,\n",
      "  File \"/Users/gurvindersingh/opt/anaconda3/envs/tf_2.0/lib/python3.7/site-packages/urllib3/util/ssl_.py\", line 370, in ssl_wrap_socket\n",
      "    return context.wrap_socket(sock, server_hostname=server_hostname)\n",
      "  File \"/Users/gurvindersingh/opt/anaconda3/envs/tf_2.0/lib/python3.7/ssl.py\", line 423, in wrap_socket\n",
      "    session=session\n",
      "  File \"/Users/gurvindersingh/opt/anaconda3/envs/tf_2.0/lib/python3.7/ssl.py\", line 870, in _create\n",
      "    self.do_handshake()\n",
      "  File \"/Users/gurvindersingh/opt/anaconda3/envs/tf_2.0/lib/python3.7/ssl.py\", line 1139, in do_handshake\n",
      "    self._sslobj.do_handshake()\n",
      "KeyboardInterrupt\n",
      "ERROR:root:Error in service call\n",
      "Traceback (most recent call last):\n",
      "  File \"/Users/gurvindersingh/opt/anaconda3/envs/tf_2.0/lib/python3.7/site-packages/ibm_cloud_sdk_core/base_service.py\", line 208, in send\n",
      "    response = requests.request(**request, cookies=self.jar, **kwargs)\n",
      "  File \"/Users/gurvindersingh/opt/anaconda3/envs/tf_2.0/lib/python3.7/site-packages/requests/api.py\", line 61, in request\n",
      "    return session.request(method=method, url=url, **kwargs)\n",
      "  File \"/Users/gurvindersingh/opt/anaconda3/envs/tf_2.0/lib/python3.7/site-packages/requests/sessions.py\", line 530, in request\n",
      "    resp = self.send(prep, **send_kwargs)\n",
      "  File \"/Users/gurvindersingh/opt/anaconda3/envs/tf_2.0/lib/python3.7/site-packages/requests/sessions.py\", line 643, in send\n",
      "    r = adapter.send(request, **kwargs)\n",
      "  File \"/Users/gurvindersingh/opt/anaconda3/envs/tf_2.0/lib/python3.7/site-packages/requests/adapters.py\", line 449, in send\n",
      "    timeout=timeout\n",
      "  File \"/Users/gurvindersingh/opt/anaconda3/envs/tf_2.0/lib/python3.7/site-packages/urllib3/connectionpool.py\", line 672, in urlopen\n",
      "    chunked=chunked,\n",
      "  File \"/Users/gurvindersingh/opt/anaconda3/envs/tf_2.0/lib/python3.7/site-packages/urllib3/connectionpool.py\", line 376, in _make_request\n",
      "    self._validate_conn(conn)\n",
      "  File \"/Users/gurvindersingh/opt/anaconda3/envs/tf_2.0/lib/python3.7/site-packages/urllib3/connectionpool.py\", line 994, in _validate_conn\n",
      "    conn.connect()\n",
      "  File \"/Users/gurvindersingh/opt/anaconda3/envs/tf_2.0/lib/python3.7/site-packages/urllib3/connection.py\", line 360, in connect\n",
      "    ssl_context=context,\n",
      "  File \"/Users/gurvindersingh/opt/anaconda3/envs/tf_2.0/lib/python3.7/site-packages/urllib3/util/ssl_.py\", line 370, in ssl_wrap_socket\n",
      "    return context.wrap_socket(sock, server_hostname=server_hostname)\n",
      "  File \"/Users/gurvindersingh/opt/anaconda3/envs/tf_2.0/lib/python3.7/ssl.py\", line 423, in wrap_socket\n",
      "    session=session\n",
      "  File \"/Users/gurvindersingh/opt/anaconda3/envs/tf_2.0/lib/python3.7/ssl.py\", line 870, in _create\n",
      "    self.do_handshake()\n",
      "  File \"/Users/gurvindersingh/opt/anaconda3/envs/tf_2.0/lib/python3.7/ssl.py\", line 1139, in do_handshake\n",
      "    self._sslobj.do_handshake()\n",
      "KeyboardInterrupt\n"
     ]
    },
    {
     "name": "stdout",
     "output_type": "stream",
     "text": [
      "Exception in uploading:  review_0896.json\n",
      "Total Files Uploaded:  0\n",
      "Exception in uploading:  review_1784.json\n",
      "Total Files Uploaded:  0\n"
     ]
    },
    {
     "name": "stderr",
     "output_type": "stream",
     "text": [
      "ERROR:root:Error in service call\n",
      "Traceback (most recent call last):\n",
      "  File \"/Users/gurvindersingh/opt/anaconda3/envs/tf_2.0/lib/python3.7/site-packages/ibm_cloud_sdk_core/base_service.py\", line 208, in send\n",
      "    response = requests.request(**request, cookies=self.jar, **kwargs)\n",
      "  File \"/Users/gurvindersingh/opt/anaconda3/envs/tf_2.0/lib/python3.7/site-packages/requests/api.py\", line 61, in request\n",
      "    return session.request(method=method, url=url, **kwargs)\n",
      "  File \"/Users/gurvindersingh/opt/anaconda3/envs/tf_2.0/lib/python3.7/site-packages/requests/sessions.py\", line 530, in request\n",
      "    resp = self.send(prep, **send_kwargs)\n",
      "  File \"/Users/gurvindersingh/opt/anaconda3/envs/tf_2.0/lib/python3.7/site-packages/requests/sessions.py\", line 643, in send\n",
      "    r = adapter.send(request, **kwargs)\n",
      "  File \"/Users/gurvindersingh/opt/anaconda3/envs/tf_2.0/lib/python3.7/site-packages/requests/adapters.py\", line 449, in send\n",
      "    timeout=timeout\n",
      "  File \"/Users/gurvindersingh/opt/anaconda3/envs/tf_2.0/lib/python3.7/site-packages/urllib3/connectionpool.py\", line 672, in urlopen\n",
      "    chunked=chunked,\n",
      "  File \"/Users/gurvindersingh/opt/anaconda3/envs/tf_2.0/lib/python3.7/site-packages/urllib3/connectionpool.py\", line 376, in _make_request\n",
      "    self._validate_conn(conn)\n",
      "  File \"/Users/gurvindersingh/opt/anaconda3/envs/tf_2.0/lib/python3.7/site-packages/urllib3/connectionpool.py\", line 994, in _validate_conn\n",
      "    conn.connect()\n",
      "  File \"/Users/gurvindersingh/opt/anaconda3/envs/tf_2.0/lib/python3.7/site-packages/urllib3/connection.py\", line 360, in connect\n",
      "    ssl_context=context,\n",
      "  File \"/Users/gurvindersingh/opt/anaconda3/envs/tf_2.0/lib/python3.7/site-packages/urllib3/util/ssl_.py\", line 370, in ssl_wrap_socket\n",
      "    return context.wrap_socket(sock, server_hostname=server_hostname)\n",
      "  File \"/Users/gurvindersingh/opt/anaconda3/envs/tf_2.0/lib/python3.7/ssl.py\", line 423, in wrap_socket\n",
      "    session=session\n",
      "  File \"/Users/gurvindersingh/opt/anaconda3/envs/tf_2.0/lib/python3.7/ssl.py\", line 870, in _create\n",
      "    self.do_handshake()\n",
      "  File \"/Users/gurvindersingh/opt/anaconda3/envs/tf_2.0/lib/python3.7/ssl.py\", line 1139, in do_handshake\n",
      "    self._sslobj.do_handshake()\n",
      "KeyboardInterrupt\n",
      "ERROR:root:Error in service call\n",
      "Traceback (most recent call last):\n",
      "  File \"/Users/gurvindersingh/opt/anaconda3/envs/tf_2.0/lib/python3.7/site-packages/ibm_cloud_sdk_core/base_service.py\", line 208, in send\n",
      "    response = requests.request(**request, cookies=self.jar, **kwargs)\n",
      "  File \"/Users/gurvindersingh/opt/anaconda3/envs/tf_2.0/lib/python3.7/site-packages/requests/api.py\", line 61, in request\n",
      "    return session.request(method=method, url=url, **kwargs)\n",
      "  File \"/Users/gurvindersingh/opt/anaconda3/envs/tf_2.0/lib/python3.7/site-packages/requests/sessions.py\", line 530, in request\n",
      "    resp = self.send(prep, **send_kwargs)\n",
      "  File \"/Users/gurvindersingh/opt/anaconda3/envs/tf_2.0/lib/python3.7/site-packages/requests/sessions.py\", line 643, in send\n",
      "    r = adapter.send(request, **kwargs)\n",
      "  File \"/Users/gurvindersingh/opt/anaconda3/envs/tf_2.0/lib/python3.7/site-packages/requests/adapters.py\", line 449, in send\n",
      "    timeout=timeout\n",
      "  File \"/Users/gurvindersingh/opt/anaconda3/envs/tf_2.0/lib/python3.7/site-packages/urllib3/connectionpool.py\", line 672, in urlopen\n",
      "    chunked=chunked,\n",
      "  File \"/Users/gurvindersingh/opt/anaconda3/envs/tf_2.0/lib/python3.7/site-packages/urllib3/connectionpool.py\", line 376, in _make_request\n",
      "    self._validate_conn(conn)\n",
      "  File \"/Users/gurvindersingh/opt/anaconda3/envs/tf_2.0/lib/python3.7/site-packages/urllib3/connectionpool.py\", line 994, in _validate_conn\n",
      "    conn.connect()\n",
      "  File \"/Users/gurvindersingh/opt/anaconda3/envs/tf_2.0/lib/python3.7/site-packages/urllib3/connection.py\", line 360, in connect\n",
      "    ssl_context=context,\n",
      "  File \"/Users/gurvindersingh/opt/anaconda3/envs/tf_2.0/lib/python3.7/site-packages/urllib3/util/ssl_.py\", line 370, in ssl_wrap_socket\n",
      "    return context.wrap_socket(sock, server_hostname=server_hostname)\n",
      "  File \"/Users/gurvindersingh/opt/anaconda3/envs/tf_2.0/lib/python3.7/ssl.py\", line 423, in wrap_socket\n",
      "    session=session\n",
      "  File \"/Users/gurvindersingh/opt/anaconda3/envs/tf_2.0/lib/python3.7/ssl.py\", line 870, in _create\n",
      "    self.do_handshake()\n",
      "  File \"/Users/gurvindersingh/opt/anaconda3/envs/tf_2.0/lib/python3.7/ssl.py\", line 1139, in do_handshake\n",
      "    self._sslobj.do_handshake()\n",
      "KeyboardInterrupt\n"
     ]
    },
    {
     "name": "stdout",
     "output_type": "stream",
     "text": [
      "Exception in uploading:  review_0195.json\n",
      "Total Files Uploaded:  0\n",
      "Exception in uploading:  review_0678.json\n",
      "Total Files Uploaded:  0\n"
     ]
    },
    {
     "name": "stderr",
     "output_type": "stream",
     "text": [
      "ERROR:root:Error in service call\n",
      "Traceback (most recent call last):\n",
      "  File \"/Users/gurvindersingh/opt/anaconda3/envs/tf_2.0/lib/python3.7/site-packages/ibm_cloud_sdk_core/base_service.py\", line 208, in send\n",
      "    response = requests.request(**request, cookies=self.jar, **kwargs)\n",
      "  File \"/Users/gurvindersingh/opt/anaconda3/envs/tf_2.0/lib/python3.7/site-packages/requests/api.py\", line 61, in request\n",
      "    return session.request(method=method, url=url, **kwargs)\n",
      "  File \"/Users/gurvindersingh/opt/anaconda3/envs/tf_2.0/lib/python3.7/site-packages/requests/sessions.py\", line 530, in request\n",
      "    resp = self.send(prep, **send_kwargs)\n",
      "  File \"/Users/gurvindersingh/opt/anaconda3/envs/tf_2.0/lib/python3.7/site-packages/requests/sessions.py\", line 643, in send\n",
      "    r = adapter.send(request, **kwargs)\n",
      "  File \"/Users/gurvindersingh/opt/anaconda3/envs/tf_2.0/lib/python3.7/site-packages/requests/adapters.py\", line 449, in send\n",
      "    timeout=timeout\n",
      "  File \"/Users/gurvindersingh/opt/anaconda3/envs/tf_2.0/lib/python3.7/site-packages/urllib3/connectionpool.py\", line 672, in urlopen\n",
      "    chunked=chunked,\n",
      "  File \"/Users/gurvindersingh/opt/anaconda3/envs/tf_2.0/lib/python3.7/site-packages/urllib3/connectionpool.py\", line 376, in _make_request\n",
      "    self._validate_conn(conn)\n",
      "  File \"/Users/gurvindersingh/opt/anaconda3/envs/tf_2.0/lib/python3.7/site-packages/urllib3/connectionpool.py\", line 994, in _validate_conn\n",
      "    conn.connect()\n",
      "  File \"/Users/gurvindersingh/opt/anaconda3/envs/tf_2.0/lib/python3.7/site-packages/urllib3/connection.py\", line 360, in connect\n",
      "    ssl_context=context,\n",
      "  File \"/Users/gurvindersingh/opt/anaconda3/envs/tf_2.0/lib/python3.7/site-packages/urllib3/util/ssl_.py\", line 370, in ssl_wrap_socket\n",
      "    return context.wrap_socket(sock, server_hostname=server_hostname)\n",
      "  File \"/Users/gurvindersingh/opt/anaconda3/envs/tf_2.0/lib/python3.7/ssl.py\", line 423, in wrap_socket\n",
      "    session=session\n",
      "  File \"/Users/gurvindersingh/opt/anaconda3/envs/tf_2.0/lib/python3.7/ssl.py\", line 870, in _create\n",
      "    self.do_handshake()\n",
      "  File \"/Users/gurvindersingh/opt/anaconda3/envs/tf_2.0/lib/python3.7/ssl.py\", line 1139, in do_handshake\n",
      "    self._sslobj.do_handshake()\n",
      "KeyboardInterrupt\n",
      "ERROR:root:Error in service call\n",
      "Traceback (most recent call last):\n",
      "  File \"/Users/gurvindersingh/opt/anaconda3/envs/tf_2.0/lib/python3.7/site-packages/ibm_cloud_sdk_core/base_service.py\", line 208, in send\n",
      "    response = requests.request(**request, cookies=self.jar, **kwargs)\n",
      "  File \"/Users/gurvindersingh/opt/anaconda3/envs/tf_2.0/lib/python3.7/site-packages/requests/api.py\", line 61, in request\n",
      "    return session.request(method=method, url=url, **kwargs)\n",
      "  File \"/Users/gurvindersingh/opt/anaconda3/envs/tf_2.0/lib/python3.7/site-packages/requests/sessions.py\", line 530, in request\n",
      "    resp = self.send(prep, **send_kwargs)\n",
      "  File \"/Users/gurvindersingh/opt/anaconda3/envs/tf_2.0/lib/python3.7/site-packages/requests/sessions.py\", line 643, in send\n",
      "    r = adapter.send(request, **kwargs)\n",
      "  File \"/Users/gurvindersingh/opt/anaconda3/envs/tf_2.0/lib/python3.7/site-packages/requests/adapters.py\", line 449, in send\n",
      "    timeout=timeout\n",
      "  File \"/Users/gurvindersingh/opt/anaconda3/envs/tf_2.0/lib/python3.7/site-packages/urllib3/connectionpool.py\", line 672, in urlopen\n",
      "    chunked=chunked,\n",
      "  File \"/Users/gurvindersingh/opt/anaconda3/envs/tf_2.0/lib/python3.7/site-packages/urllib3/connectionpool.py\", line 376, in _make_request\n",
      "    self._validate_conn(conn)\n",
      "  File \"/Users/gurvindersingh/opt/anaconda3/envs/tf_2.0/lib/python3.7/site-packages/urllib3/connectionpool.py\", line 994, in _validate_conn\n",
      "    conn.connect()\n",
      "  File \"/Users/gurvindersingh/opt/anaconda3/envs/tf_2.0/lib/python3.7/site-packages/urllib3/connection.py\", line 360, in connect\n",
      "    ssl_context=context,\n",
      "  File \"/Users/gurvindersingh/opt/anaconda3/envs/tf_2.0/lib/python3.7/site-packages/urllib3/util/ssl_.py\", line 370, in ssl_wrap_socket\n",
      "    return context.wrap_socket(sock, server_hostname=server_hostname)\n",
      "  File \"/Users/gurvindersingh/opt/anaconda3/envs/tf_2.0/lib/python3.7/ssl.py\", line 423, in wrap_socket\n",
      "    session=session\n",
      "  File \"/Users/gurvindersingh/opt/anaconda3/envs/tf_2.0/lib/python3.7/ssl.py\", line 870, in _create\n",
      "    self.do_handshake()\n",
      "  File \"/Users/gurvindersingh/opt/anaconda3/envs/tf_2.0/lib/python3.7/ssl.py\", line 1139, in do_handshake\n",
      "    self._sslobj.do_handshake()\n",
      "KeyboardInterrupt\n"
     ]
    },
    {
     "name": "stdout",
     "output_type": "stream",
     "text": [
      "Exception in uploading:  review_0382.json\n",
      "Total Files Uploaded:  0\n",
      "Exception in uploading:  review_0228.json\n",
      "Total Files Uploaded:  0\n"
     ]
    },
    {
     "name": "stderr",
     "output_type": "stream",
     "text": [
      "ERROR:root:Error in service call\n",
      "Traceback (most recent call last):\n",
      "  File \"/Users/gurvindersingh/opt/anaconda3/envs/tf_2.0/lib/python3.7/site-packages/ibm_cloud_sdk_core/base_service.py\", line 208, in send\n",
      "    response = requests.request(**request, cookies=self.jar, **kwargs)\n",
      "  File \"/Users/gurvindersingh/opt/anaconda3/envs/tf_2.0/lib/python3.7/site-packages/requests/api.py\", line 61, in request\n",
      "    return session.request(method=method, url=url, **kwargs)\n",
      "  File \"/Users/gurvindersingh/opt/anaconda3/envs/tf_2.0/lib/python3.7/site-packages/requests/sessions.py\", line 530, in request\n",
      "    resp = self.send(prep, **send_kwargs)\n",
      "  File \"/Users/gurvindersingh/opt/anaconda3/envs/tf_2.0/lib/python3.7/site-packages/requests/sessions.py\", line 643, in send\n",
      "    r = adapter.send(request, **kwargs)\n",
      "  File \"/Users/gurvindersingh/opt/anaconda3/envs/tf_2.0/lib/python3.7/site-packages/requests/adapters.py\", line 449, in send\n",
      "    timeout=timeout\n",
      "  File \"/Users/gurvindersingh/opt/anaconda3/envs/tf_2.0/lib/python3.7/site-packages/urllib3/connectionpool.py\", line 672, in urlopen\n",
      "    chunked=chunked,\n",
      "  File \"/Users/gurvindersingh/opt/anaconda3/envs/tf_2.0/lib/python3.7/site-packages/urllib3/connectionpool.py\", line 376, in _make_request\n",
      "    self._validate_conn(conn)\n",
      "  File \"/Users/gurvindersingh/opt/anaconda3/envs/tf_2.0/lib/python3.7/site-packages/urllib3/connectionpool.py\", line 994, in _validate_conn\n",
      "    conn.connect()\n",
      "  File \"/Users/gurvindersingh/opt/anaconda3/envs/tf_2.0/lib/python3.7/site-packages/urllib3/connection.py\", line 360, in connect\n",
      "    ssl_context=context,\n",
      "  File \"/Users/gurvindersingh/opt/anaconda3/envs/tf_2.0/lib/python3.7/site-packages/urllib3/util/ssl_.py\", line 370, in ssl_wrap_socket\n",
      "    return context.wrap_socket(sock, server_hostname=server_hostname)\n",
      "  File \"/Users/gurvindersingh/opt/anaconda3/envs/tf_2.0/lib/python3.7/ssl.py\", line 423, in wrap_socket\n",
      "    session=session\n",
      "  File \"/Users/gurvindersingh/opt/anaconda3/envs/tf_2.0/lib/python3.7/ssl.py\", line 870, in _create\n",
      "    self.do_handshake()\n",
      "  File \"/Users/gurvindersingh/opt/anaconda3/envs/tf_2.0/lib/python3.7/ssl.py\", line 1139, in do_handshake\n",
      "    self._sslobj.do_handshake()\n",
      "KeyboardInterrupt\n",
      "ERROR:root:Error in service call\n",
      "Traceback (most recent call last):\n",
      "  File \"/Users/gurvindersingh/opt/anaconda3/envs/tf_2.0/lib/python3.7/site-packages/ibm_cloud_sdk_core/base_service.py\", line 208, in send\n",
      "    response = requests.request(**request, cookies=self.jar, **kwargs)\n",
      "  File \"/Users/gurvindersingh/opt/anaconda3/envs/tf_2.0/lib/python3.7/site-packages/requests/api.py\", line 61, in request\n",
      "    return session.request(method=method, url=url, **kwargs)\n",
      "  File \"/Users/gurvindersingh/opt/anaconda3/envs/tf_2.0/lib/python3.7/site-packages/requests/sessions.py\", line 530, in request\n",
      "    resp = self.send(prep, **send_kwargs)\n",
      "  File \"/Users/gurvindersingh/opt/anaconda3/envs/tf_2.0/lib/python3.7/site-packages/requests/sessions.py\", line 643, in send\n",
      "    r = adapter.send(request, **kwargs)\n",
      "  File \"/Users/gurvindersingh/opt/anaconda3/envs/tf_2.0/lib/python3.7/site-packages/requests/adapters.py\", line 449, in send\n",
      "    timeout=timeout\n",
      "  File \"/Users/gurvindersingh/opt/anaconda3/envs/tf_2.0/lib/python3.7/site-packages/urllib3/connectionpool.py\", line 672, in urlopen\n",
      "    chunked=chunked,\n",
      "  File \"/Users/gurvindersingh/opt/anaconda3/envs/tf_2.0/lib/python3.7/site-packages/urllib3/connectionpool.py\", line 376, in _make_request\n",
      "    self._validate_conn(conn)\n",
      "  File \"/Users/gurvindersingh/opt/anaconda3/envs/tf_2.0/lib/python3.7/site-packages/urllib3/connectionpool.py\", line 994, in _validate_conn\n",
      "    conn.connect()\n",
      "  File \"/Users/gurvindersingh/opt/anaconda3/envs/tf_2.0/lib/python3.7/site-packages/urllib3/connection.py\", line 360, in connect\n",
      "    ssl_context=context,\n",
      "  File \"/Users/gurvindersingh/opt/anaconda3/envs/tf_2.0/lib/python3.7/site-packages/urllib3/util/ssl_.py\", line 370, in ssl_wrap_socket\n",
      "    return context.wrap_socket(sock, server_hostname=server_hostname)\n",
      "  File \"/Users/gurvindersingh/opt/anaconda3/envs/tf_2.0/lib/python3.7/ssl.py\", line 423, in wrap_socket\n",
      "    session=session\n",
      "  File \"/Users/gurvindersingh/opt/anaconda3/envs/tf_2.0/lib/python3.7/ssl.py\", line 870, in _create\n",
      "    self.do_handshake()\n",
      "  File \"/Users/gurvindersingh/opt/anaconda3/envs/tf_2.0/lib/python3.7/ssl.py\", line 1139, in do_handshake\n",
      "    self._sslobj.do_handshake()\n",
      "KeyboardInterrupt\n"
     ]
    },
    {
     "name": "stdout",
     "output_type": "stream",
     "text": [
      "Exception in uploading:  review_1069.json\n",
      "Total Files Uploaded:  0\n",
      "Exception in uploading:  review_1593.json\n",
      "Total Files Uploaded:  0\n"
     ]
    },
    {
     "name": "stderr",
     "output_type": "stream",
     "text": [
      "ERROR:root:Error in service call\n",
      "Traceback (most recent call last):\n",
      "  File \"/Users/gurvindersingh/opt/anaconda3/envs/tf_2.0/lib/python3.7/site-packages/ibm_cloud_sdk_core/base_service.py\", line 208, in send\n",
      "    response = requests.request(**request, cookies=self.jar, **kwargs)\n",
      "  File \"/Users/gurvindersingh/opt/anaconda3/envs/tf_2.0/lib/python3.7/site-packages/requests/api.py\", line 61, in request\n",
      "    return session.request(method=method, url=url, **kwargs)\n",
      "  File \"/Users/gurvindersingh/opt/anaconda3/envs/tf_2.0/lib/python3.7/site-packages/requests/sessions.py\", line 530, in request\n",
      "    resp = self.send(prep, **send_kwargs)\n",
      "  File \"/Users/gurvindersingh/opt/anaconda3/envs/tf_2.0/lib/python3.7/site-packages/requests/sessions.py\", line 643, in send\n",
      "    r = adapter.send(request, **kwargs)\n",
      "  File \"/Users/gurvindersingh/opt/anaconda3/envs/tf_2.0/lib/python3.7/site-packages/requests/adapters.py\", line 449, in send\n",
      "    timeout=timeout\n",
      "  File \"/Users/gurvindersingh/opt/anaconda3/envs/tf_2.0/lib/python3.7/site-packages/urllib3/connectionpool.py\", line 672, in urlopen\n",
      "    chunked=chunked,\n",
      "  File \"/Users/gurvindersingh/opt/anaconda3/envs/tf_2.0/lib/python3.7/site-packages/urllib3/connectionpool.py\", line 376, in _make_request\n",
      "    self._validate_conn(conn)\n",
      "  File \"/Users/gurvindersingh/opt/anaconda3/envs/tf_2.0/lib/python3.7/site-packages/urllib3/connectionpool.py\", line 994, in _validate_conn\n",
      "    conn.connect()\n",
      "  File \"/Users/gurvindersingh/opt/anaconda3/envs/tf_2.0/lib/python3.7/site-packages/urllib3/connection.py\", line 360, in connect\n",
      "    ssl_context=context,\n",
      "  File \"/Users/gurvindersingh/opt/anaconda3/envs/tf_2.0/lib/python3.7/site-packages/urllib3/util/ssl_.py\", line 370, in ssl_wrap_socket\n",
      "    return context.wrap_socket(sock, server_hostname=server_hostname)\n",
      "  File \"/Users/gurvindersingh/opt/anaconda3/envs/tf_2.0/lib/python3.7/ssl.py\", line 423, in wrap_socket\n",
      "    session=session\n",
      "  File \"/Users/gurvindersingh/opt/anaconda3/envs/tf_2.0/lib/python3.7/ssl.py\", line 870, in _create\n",
      "    self.do_handshake()\n",
      "  File \"/Users/gurvindersingh/opt/anaconda3/envs/tf_2.0/lib/python3.7/ssl.py\", line 1139, in do_handshake\n",
      "    self._sslobj.do_handshake()\n",
      "KeyboardInterrupt\n",
      "ERROR:root:Error in service call\n",
      "Traceback (most recent call last):\n",
      "  File \"/Users/gurvindersingh/opt/anaconda3/envs/tf_2.0/lib/python3.7/site-packages/ibm_cloud_sdk_core/base_service.py\", line 208, in send\n",
      "    response = requests.request(**request, cookies=self.jar, **kwargs)\n",
      "  File \"/Users/gurvindersingh/opt/anaconda3/envs/tf_2.0/lib/python3.7/site-packages/requests/api.py\", line 61, in request\n",
      "    return session.request(method=method, url=url, **kwargs)\n",
      "  File \"/Users/gurvindersingh/opt/anaconda3/envs/tf_2.0/lib/python3.7/site-packages/requests/sessions.py\", line 530, in request\n",
      "    resp = self.send(prep, **send_kwargs)\n",
      "  File \"/Users/gurvindersingh/opt/anaconda3/envs/tf_2.0/lib/python3.7/site-packages/requests/sessions.py\", line 643, in send\n",
      "    r = adapter.send(request, **kwargs)\n",
      "  File \"/Users/gurvindersingh/opt/anaconda3/envs/tf_2.0/lib/python3.7/site-packages/requests/adapters.py\", line 449, in send\n",
      "    timeout=timeout\n",
      "  File \"/Users/gurvindersingh/opt/anaconda3/envs/tf_2.0/lib/python3.7/site-packages/urllib3/connectionpool.py\", line 672, in urlopen\n",
      "    chunked=chunked,\n",
      "  File \"/Users/gurvindersingh/opt/anaconda3/envs/tf_2.0/lib/python3.7/site-packages/urllib3/connectionpool.py\", line 376, in _make_request\n",
      "    self._validate_conn(conn)\n",
      "  File \"/Users/gurvindersingh/opt/anaconda3/envs/tf_2.0/lib/python3.7/site-packages/urllib3/connectionpool.py\", line 994, in _validate_conn\n",
      "    conn.connect()\n",
      "  File \"/Users/gurvindersingh/opt/anaconda3/envs/tf_2.0/lib/python3.7/site-packages/urllib3/connection.py\", line 360, in connect\n",
      "    ssl_context=context,\n",
      "  File \"/Users/gurvindersingh/opt/anaconda3/envs/tf_2.0/lib/python3.7/site-packages/urllib3/util/ssl_.py\", line 370, in ssl_wrap_socket\n",
      "    return context.wrap_socket(sock, server_hostname=server_hostname)\n",
      "  File \"/Users/gurvindersingh/opt/anaconda3/envs/tf_2.0/lib/python3.7/ssl.py\", line 423, in wrap_socket\n",
      "    session=session\n",
      "  File \"/Users/gurvindersingh/opt/anaconda3/envs/tf_2.0/lib/python3.7/ssl.py\", line 870, in _create\n",
      "    self.do_handshake()\n",
      "  File \"/Users/gurvindersingh/opt/anaconda3/envs/tf_2.0/lib/python3.7/ssl.py\", line 1139, in do_handshake\n",
      "    self._sslobj.do_handshake()\n",
      "KeyboardInterrupt\n"
     ]
    },
    {
     "name": "stdout",
     "output_type": "stream",
     "text": [
      "Exception in uploading:  review_1439.json\n",
      "Total Files Uploaded:  0\n",
      "Exception in uploading:  review_1086.json\n",
      "Total Files Uploaded:  0\n"
     ]
    },
    {
     "name": "stderr",
     "output_type": "stream",
     "text": [
      "ERROR:root:Error in service call\n",
      "Traceback (most recent call last):\n",
      "  File \"/Users/gurvindersingh/opt/anaconda3/envs/tf_2.0/lib/python3.7/site-packages/ibm_cloud_sdk_core/base_service.py\", line 208, in send\n",
      "    response = requests.request(**request, cookies=self.jar, **kwargs)\n",
      "  File \"/Users/gurvindersingh/opt/anaconda3/envs/tf_2.0/lib/python3.7/site-packages/requests/api.py\", line 61, in request\n",
      "    return session.request(method=method, url=url, **kwargs)\n",
      "  File \"/Users/gurvindersingh/opt/anaconda3/envs/tf_2.0/lib/python3.7/site-packages/requests/sessions.py\", line 530, in request\n",
      "    resp = self.send(prep, **send_kwargs)\n",
      "  File \"/Users/gurvindersingh/opt/anaconda3/envs/tf_2.0/lib/python3.7/site-packages/requests/sessions.py\", line 643, in send\n",
      "    r = adapter.send(request, **kwargs)\n",
      "  File \"/Users/gurvindersingh/opt/anaconda3/envs/tf_2.0/lib/python3.7/site-packages/requests/adapters.py\", line 449, in send\n",
      "    timeout=timeout\n",
      "  File \"/Users/gurvindersingh/opt/anaconda3/envs/tf_2.0/lib/python3.7/site-packages/urllib3/connectionpool.py\", line 672, in urlopen\n",
      "    chunked=chunked,\n",
      "  File \"/Users/gurvindersingh/opt/anaconda3/envs/tf_2.0/lib/python3.7/site-packages/urllib3/connectionpool.py\", line 376, in _make_request\n",
      "    self._validate_conn(conn)\n",
      "  File \"/Users/gurvindersingh/opt/anaconda3/envs/tf_2.0/lib/python3.7/site-packages/urllib3/connectionpool.py\", line 994, in _validate_conn\n",
      "    conn.connect()\n",
      "  File \"/Users/gurvindersingh/opt/anaconda3/envs/tf_2.0/lib/python3.7/site-packages/urllib3/connection.py\", line 360, in connect\n",
      "    ssl_context=context,\n",
      "  File \"/Users/gurvindersingh/opt/anaconda3/envs/tf_2.0/lib/python3.7/site-packages/urllib3/util/ssl_.py\", line 370, in ssl_wrap_socket\n",
      "    return context.wrap_socket(sock, server_hostname=server_hostname)\n",
      "  File \"/Users/gurvindersingh/opt/anaconda3/envs/tf_2.0/lib/python3.7/ssl.py\", line 423, in wrap_socket\n",
      "    session=session\n",
      "  File \"/Users/gurvindersingh/opt/anaconda3/envs/tf_2.0/lib/python3.7/ssl.py\", line 870, in _create\n",
      "    self.do_handshake()\n",
      "  File \"/Users/gurvindersingh/opt/anaconda3/envs/tf_2.0/lib/python3.7/ssl.py\", line 1139, in do_handshake\n",
      "    self._sslobj.do_handshake()\n",
      "KeyboardInterrupt\n",
      "ERROR:root:Error in service call\n",
      "Traceback (most recent call last):\n",
      "  File \"/Users/gurvindersingh/opt/anaconda3/envs/tf_2.0/lib/python3.7/site-packages/ibm_cloud_sdk_core/base_service.py\", line 208, in send\n",
      "    response = requests.request(**request, cookies=self.jar, **kwargs)\n",
      "  File \"/Users/gurvindersingh/opt/anaconda3/envs/tf_2.0/lib/python3.7/site-packages/requests/api.py\", line 61, in request\n",
      "    return session.request(method=method, url=url, **kwargs)\n",
      "  File \"/Users/gurvindersingh/opt/anaconda3/envs/tf_2.0/lib/python3.7/site-packages/requests/sessions.py\", line 530, in request\n",
      "    resp = self.send(prep, **send_kwargs)\n",
      "  File \"/Users/gurvindersingh/opt/anaconda3/envs/tf_2.0/lib/python3.7/site-packages/requests/sessions.py\", line 643, in send\n",
      "    r = adapter.send(request, **kwargs)\n",
      "  File \"/Users/gurvindersingh/opt/anaconda3/envs/tf_2.0/lib/python3.7/site-packages/requests/adapters.py\", line 449, in send\n",
      "    timeout=timeout\n",
      "  File \"/Users/gurvindersingh/opt/anaconda3/envs/tf_2.0/lib/python3.7/site-packages/urllib3/connectionpool.py\", line 672, in urlopen\n",
      "    chunked=chunked,\n",
      "  File \"/Users/gurvindersingh/opt/anaconda3/envs/tf_2.0/lib/python3.7/site-packages/urllib3/connectionpool.py\", line 376, in _make_request\n",
      "    self._validate_conn(conn)\n",
      "  File \"/Users/gurvindersingh/opt/anaconda3/envs/tf_2.0/lib/python3.7/site-packages/urllib3/connectionpool.py\", line 994, in _validate_conn\n",
      "    conn.connect()\n",
      "  File \"/Users/gurvindersingh/opt/anaconda3/envs/tf_2.0/lib/python3.7/site-packages/urllib3/connection.py\", line 360, in connect\n",
      "    ssl_context=context,\n",
      "  File \"/Users/gurvindersingh/opt/anaconda3/envs/tf_2.0/lib/python3.7/site-packages/urllib3/util/ssl_.py\", line 370, in ssl_wrap_socket\n",
      "    return context.wrap_socket(sock, server_hostname=server_hostname)\n",
      "  File \"/Users/gurvindersingh/opt/anaconda3/envs/tf_2.0/lib/python3.7/ssl.py\", line 423, in wrap_socket\n",
      "    session=session\n",
      "  File \"/Users/gurvindersingh/opt/anaconda3/envs/tf_2.0/lib/python3.7/ssl.py\", line 870, in _create\n",
      "    self.do_handshake()\n",
      "  File \"/Users/gurvindersingh/opt/anaconda3/envs/tf_2.0/lib/python3.7/ssl.py\", line 1139, in do_handshake\n",
      "    self._sslobj.do_handshake()\n",
      "KeyboardInterrupt\n"
     ]
    },
    {
     "name": "stdout",
     "output_type": "stream",
     "text": [
      "Exception in uploading:  review_0697.json\n",
      "Total Files Uploaded:  0\n",
      "Exception in uploading:  review_1985.json\n",
      "Total Files Uploaded:  0\n"
     ]
    },
    {
     "name": "stderr",
     "output_type": "stream",
     "text": [
      "ERROR:root:Error in service call\n",
      "Traceback (most recent call last):\n",
      "  File \"/Users/gurvindersingh/opt/anaconda3/envs/tf_2.0/lib/python3.7/site-packages/ibm_cloud_sdk_core/base_service.py\", line 208, in send\n",
      "    response = requests.request(**request, cookies=self.jar, **kwargs)\n",
      "  File \"/Users/gurvindersingh/opt/anaconda3/envs/tf_2.0/lib/python3.7/site-packages/requests/api.py\", line 61, in request\n",
      "    return session.request(method=method, url=url, **kwargs)\n",
      "  File \"/Users/gurvindersingh/opt/anaconda3/envs/tf_2.0/lib/python3.7/site-packages/requests/sessions.py\", line 530, in request\n",
      "    resp = self.send(prep, **send_kwargs)\n",
      "  File \"/Users/gurvindersingh/opt/anaconda3/envs/tf_2.0/lib/python3.7/site-packages/requests/sessions.py\", line 643, in send\n",
      "    r = adapter.send(request, **kwargs)\n",
      "  File \"/Users/gurvindersingh/opt/anaconda3/envs/tf_2.0/lib/python3.7/site-packages/requests/adapters.py\", line 449, in send\n",
      "    timeout=timeout\n",
      "  File \"/Users/gurvindersingh/opt/anaconda3/envs/tf_2.0/lib/python3.7/site-packages/urllib3/connectionpool.py\", line 672, in urlopen\n",
      "    chunked=chunked,\n",
      "  File \"/Users/gurvindersingh/opt/anaconda3/envs/tf_2.0/lib/python3.7/site-packages/urllib3/connectionpool.py\", line 376, in _make_request\n",
      "    self._validate_conn(conn)\n",
      "  File \"/Users/gurvindersingh/opt/anaconda3/envs/tf_2.0/lib/python3.7/site-packages/urllib3/connectionpool.py\", line 994, in _validate_conn\n",
      "    conn.connect()\n",
      "  File \"/Users/gurvindersingh/opt/anaconda3/envs/tf_2.0/lib/python3.7/site-packages/urllib3/connection.py\", line 360, in connect\n",
      "    ssl_context=context,\n",
      "  File \"/Users/gurvindersingh/opt/anaconda3/envs/tf_2.0/lib/python3.7/site-packages/urllib3/util/ssl_.py\", line 370, in ssl_wrap_socket\n",
      "    return context.wrap_socket(sock, server_hostname=server_hostname)\n",
      "  File \"/Users/gurvindersingh/opt/anaconda3/envs/tf_2.0/lib/python3.7/ssl.py\", line 423, in wrap_socket\n",
      "    session=session\n",
      "  File \"/Users/gurvindersingh/opt/anaconda3/envs/tf_2.0/lib/python3.7/ssl.py\", line 870, in _create\n",
      "    self.do_handshake()\n",
      "  File \"/Users/gurvindersingh/opt/anaconda3/envs/tf_2.0/lib/python3.7/ssl.py\", line 1139, in do_handshake\n",
      "    self._sslobj.do_handshake()\n",
      "KeyboardInterrupt\n",
      "ERROR:root:Error in service call\n",
      "Traceback (most recent call last):\n",
      "  File \"/Users/gurvindersingh/opt/anaconda3/envs/tf_2.0/lib/python3.7/site-packages/ibm_cloud_sdk_core/base_service.py\", line 208, in send\n",
      "    response = requests.request(**request, cookies=self.jar, **kwargs)\n",
      "  File \"/Users/gurvindersingh/opt/anaconda3/envs/tf_2.0/lib/python3.7/site-packages/requests/api.py\", line 61, in request\n",
      "    return session.request(method=method, url=url, **kwargs)\n",
      "  File \"/Users/gurvindersingh/opt/anaconda3/envs/tf_2.0/lib/python3.7/site-packages/requests/sessions.py\", line 530, in request\n",
      "    resp = self.send(prep, **send_kwargs)\n",
      "  File \"/Users/gurvindersingh/opt/anaconda3/envs/tf_2.0/lib/python3.7/site-packages/requests/sessions.py\", line 643, in send\n",
      "    r = adapter.send(request, **kwargs)\n",
      "  File \"/Users/gurvindersingh/opt/anaconda3/envs/tf_2.0/lib/python3.7/site-packages/requests/adapters.py\", line 449, in send\n",
      "    timeout=timeout\n",
      "  File \"/Users/gurvindersingh/opt/anaconda3/envs/tf_2.0/lib/python3.7/site-packages/urllib3/connectionpool.py\", line 672, in urlopen\n",
      "    chunked=chunked,\n",
      "  File \"/Users/gurvindersingh/opt/anaconda3/envs/tf_2.0/lib/python3.7/site-packages/urllib3/connectionpool.py\", line 376, in _make_request\n",
      "    self._validate_conn(conn)\n",
      "  File \"/Users/gurvindersingh/opt/anaconda3/envs/tf_2.0/lib/python3.7/site-packages/urllib3/connectionpool.py\", line 994, in _validate_conn\n",
      "    conn.connect()\n",
      "  File \"/Users/gurvindersingh/opt/anaconda3/envs/tf_2.0/lib/python3.7/site-packages/urllib3/connection.py\", line 360, in connect\n",
      "    ssl_context=context,\n",
      "  File \"/Users/gurvindersingh/opt/anaconda3/envs/tf_2.0/lib/python3.7/site-packages/urllib3/util/ssl_.py\", line 370, in ssl_wrap_socket\n",
      "    return context.wrap_socket(sock, server_hostname=server_hostname)\n",
      "  File \"/Users/gurvindersingh/opt/anaconda3/envs/tf_2.0/lib/python3.7/ssl.py\", line 423, in wrap_socket\n",
      "    session=session\n",
      "  File \"/Users/gurvindersingh/opt/anaconda3/envs/tf_2.0/lib/python3.7/ssl.py\", line 870, in _create\n",
      "    self.do_handshake()\n",
      "  File \"/Users/gurvindersingh/opt/anaconda3/envs/tf_2.0/lib/python3.7/ssl.py\", line 1139, in do_handshake\n",
      "    self._sslobj.do_handshake()\n",
      "KeyboardInterrupt\n"
     ]
    },
    {
     "name": "stdout",
     "output_type": "stream",
     "text": [
      "Exception in uploading:  review_0947.json\n",
      "Total Files Uploaded:  0\n",
      "Exception in uploading:  review_1655.json\n",
      "Total Files Uploaded:  0\n"
     ]
    },
    {
     "name": "stderr",
     "output_type": "stream",
     "text": [
      "ERROR:root:Error in service call\n",
      "Traceback (most recent call last):\n",
      "  File \"/Users/gurvindersingh/opt/anaconda3/envs/tf_2.0/lib/python3.7/site-packages/ibm_cloud_sdk_core/base_service.py\", line 208, in send\n",
      "    response = requests.request(**request, cookies=self.jar, **kwargs)\n",
      "  File \"/Users/gurvindersingh/opt/anaconda3/envs/tf_2.0/lib/python3.7/site-packages/requests/api.py\", line 61, in request\n",
      "    return session.request(method=method, url=url, **kwargs)\n",
      "  File \"/Users/gurvindersingh/opt/anaconda3/envs/tf_2.0/lib/python3.7/site-packages/requests/sessions.py\", line 530, in request\n",
      "    resp = self.send(prep, **send_kwargs)\n",
      "  File \"/Users/gurvindersingh/opt/anaconda3/envs/tf_2.0/lib/python3.7/site-packages/requests/sessions.py\", line 643, in send\n",
      "    r = adapter.send(request, **kwargs)\n",
      "  File \"/Users/gurvindersingh/opt/anaconda3/envs/tf_2.0/lib/python3.7/site-packages/requests/adapters.py\", line 449, in send\n",
      "    timeout=timeout\n",
      "  File \"/Users/gurvindersingh/opt/anaconda3/envs/tf_2.0/lib/python3.7/site-packages/urllib3/connectionpool.py\", line 672, in urlopen\n",
      "    chunked=chunked,\n",
      "  File \"/Users/gurvindersingh/opt/anaconda3/envs/tf_2.0/lib/python3.7/site-packages/urllib3/connectionpool.py\", line 376, in _make_request\n",
      "    self._validate_conn(conn)\n",
      "  File \"/Users/gurvindersingh/opt/anaconda3/envs/tf_2.0/lib/python3.7/site-packages/urllib3/connectionpool.py\", line 994, in _validate_conn\n",
      "    conn.connect()\n",
      "  File \"/Users/gurvindersingh/opt/anaconda3/envs/tf_2.0/lib/python3.7/site-packages/urllib3/connection.py\", line 360, in connect\n",
      "    ssl_context=context,\n",
      "  File \"/Users/gurvindersingh/opt/anaconda3/envs/tf_2.0/lib/python3.7/site-packages/urllib3/util/ssl_.py\", line 370, in ssl_wrap_socket\n",
      "    return context.wrap_socket(sock, server_hostname=server_hostname)\n",
      "  File \"/Users/gurvindersingh/opt/anaconda3/envs/tf_2.0/lib/python3.7/ssl.py\", line 423, in wrap_socket\n",
      "    session=session\n",
      "  File \"/Users/gurvindersingh/opt/anaconda3/envs/tf_2.0/lib/python3.7/ssl.py\", line 870, in _create\n",
      "    self.do_handshake()\n",
      "  File \"/Users/gurvindersingh/opt/anaconda3/envs/tf_2.0/lib/python3.7/ssl.py\", line 1139, in do_handshake\n",
      "    self._sslobj.do_handshake()\n",
      "KeyboardInterrupt\n",
      "ERROR:root:Error in service call\n",
      "Traceback (most recent call last):\n",
      "  File \"/Users/gurvindersingh/opt/anaconda3/envs/tf_2.0/lib/python3.7/site-packages/ibm_cloud_sdk_core/base_service.py\", line 208, in send\n",
      "    response = requests.request(**request, cookies=self.jar, **kwargs)\n",
      "  File \"/Users/gurvindersingh/opt/anaconda3/envs/tf_2.0/lib/python3.7/site-packages/requests/api.py\", line 61, in request\n",
      "    return session.request(method=method, url=url, **kwargs)\n",
      "  File \"/Users/gurvindersingh/opt/anaconda3/envs/tf_2.0/lib/python3.7/site-packages/requests/sessions.py\", line 530, in request\n",
      "    resp = self.send(prep, **send_kwargs)\n",
      "  File \"/Users/gurvindersingh/opt/anaconda3/envs/tf_2.0/lib/python3.7/site-packages/requests/sessions.py\", line 643, in send\n",
      "    r = adapter.send(request, **kwargs)\n",
      "  File \"/Users/gurvindersingh/opt/anaconda3/envs/tf_2.0/lib/python3.7/site-packages/requests/adapters.py\", line 449, in send\n",
      "    timeout=timeout\n",
      "  File \"/Users/gurvindersingh/opt/anaconda3/envs/tf_2.0/lib/python3.7/site-packages/urllib3/connectionpool.py\", line 672, in urlopen\n",
      "    chunked=chunked,\n",
      "  File \"/Users/gurvindersingh/opt/anaconda3/envs/tf_2.0/lib/python3.7/site-packages/urllib3/connectionpool.py\", line 376, in _make_request\n",
      "    self._validate_conn(conn)\n",
      "  File \"/Users/gurvindersingh/opt/anaconda3/envs/tf_2.0/lib/python3.7/site-packages/urllib3/connectionpool.py\", line 994, in _validate_conn\n",
      "    conn.connect()\n",
      "  File \"/Users/gurvindersingh/opt/anaconda3/envs/tf_2.0/lib/python3.7/site-packages/urllib3/connection.py\", line 360, in connect\n",
      "    ssl_context=context,\n",
      "  File \"/Users/gurvindersingh/opt/anaconda3/envs/tf_2.0/lib/python3.7/site-packages/urllib3/util/ssl_.py\", line 370, in ssl_wrap_socket\n",
      "    return context.wrap_socket(sock, server_hostname=server_hostname)\n",
      "  File \"/Users/gurvindersingh/opt/anaconda3/envs/tf_2.0/lib/python3.7/ssl.py\", line 423, in wrap_socket\n",
      "    session=session\n",
      "  File \"/Users/gurvindersingh/opt/anaconda3/envs/tf_2.0/lib/python3.7/ssl.py\", line 870, in _create\n",
      "    self.do_handshake()\n",
      "  File \"/Users/gurvindersingh/opt/anaconda3/envs/tf_2.0/lib/python3.7/ssl.py\", line 1139, in do_handshake\n",
      "    self._sslobj.do_handshake()\n",
      "KeyboardInterrupt\n"
     ]
    },
    {
     "name": "stdout",
     "output_type": "stream",
     "text": [
      "Exception in uploading:  review_1205.json\n",
      "Total Files Uploaded:  0\n",
      "Exception in uploading:  review_0044.json\n",
      "Total Files Uploaded:  0\n"
     ]
    },
    {
     "name": "stderr",
     "output_type": "stream",
     "text": [
      "ERROR:root:Error in service call\n",
      "Traceback (most recent call last):\n",
      "  File \"/Users/gurvindersingh/opt/anaconda3/envs/tf_2.0/lib/python3.7/site-packages/ibm_cloud_sdk_core/base_service.py\", line 208, in send\n",
      "    response = requests.request(**request, cookies=self.jar, **kwargs)\n",
      "  File \"/Users/gurvindersingh/opt/anaconda3/envs/tf_2.0/lib/python3.7/site-packages/requests/api.py\", line 61, in request\n",
      "    return session.request(method=method, url=url, **kwargs)\n",
      "  File \"/Users/gurvindersingh/opt/anaconda3/envs/tf_2.0/lib/python3.7/site-packages/requests/sessions.py\", line 530, in request\n",
      "    resp = self.send(prep, **send_kwargs)\n",
      "  File \"/Users/gurvindersingh/opt/anaconda3/envs/tf_2.0/lib/python3.7/site-packages/requests/sessions.py\", line 643, in send\n",
      "    r = adapter.send(request, **kwargs)\n",
      "  File \"/Users/gurvindersingh/opt/anaconda3/envs/tf_2.0/lib/python3.7/site-packages/requests/adapters.py\", line 449, in send\n",
      "    timeout=timeout\n",
      "  File \"/Users/gurvindersingh/opt/anaconda3/envs/tf_2.0/lib/python3.7/site-packages/urllib3/connectionpool.py\", line 672, in urlopen\n",
      "    chunked=chunked,\n",
      "  File \"/Users/gurvindersingh/opt/anaconda3/envs/tf_2.0/lib/python3.7/site-packages/urllib3/connectionpool.py\", line 376, in _make_request\n",
      "    self._validate_conn(conn)\n",
      "  File \"/Users/gurvindersingh/opt/anaconda3/envs/tf_2.0/lib/python3.7/site-packages/urllib3/connectionpool.py\", line 994, in _validate_conn\n",
      "    conn.connect()\n",
      "  File \"/Users/gurvindersingh/opt/anaconda3/envs/tf_2.0/lib/python3.7/site-packages/urllib3/connection.py\", line 360, in connect\n",
      "    ssl_context=context,\n",
      "  File \"/Users/gurvindersingh/opt/anaconda3/envs/tf_2.0/lib/python3.7/site-packages/urllib3/util/ssl_.py\", line 370, in ssl_wrap_socket\n",
      "    return context.wrap_socket(sock, server_hostname=server_hostname)\n",
      "  File \"/Users/gurvindersingh/opt/anaconda3/envs/tf_2.0/lib/python3.7/ssl.py\", line 423, in wrap_socket\n",
      "    session=session\n",
      "  File \"/Users/gurvindersingh/opt/anaconda3/envs/tf_2.0/lib/python3.7/ssl.py\", line 870, in _create\n",
      "    self.do_handshake()\n",
      "  File \"/Users/gurvindersingh/opt/anaconda3/envs/tf_2.0/lib/python3.7/ssl.py\", line 1139, in do_handshake\n",
      "    self._sslobj.do_handshake()\n",
      "KeyboardInterrupt\n",
      "ERROR:root:Error in service call\n",
      "Traceback (most recent call last):\n",
      "  File \"/Users/gurvindersingh/opt/anaconda3/envs/tf_2.0/lib/python3.7/site-packages/ibm_cloud_sdk_core/base_service.py\", line 208, in send\n",
      "    response = requests.request(**request, cookies=self.jar, **kwargs)\n",
      "  File \"/Users/gurvindersingh/opt/anaconda3/envs/tf_2.0/lib/python3.7/site-packages/requests/api.py\", line 61, in request\n",
      "    return session.request(method=method, url=url, **kwargs)\n",
      "  File \"/Users/gurvindersingh/opt/anaconda3/envs/tf_2.0/lib/python3.7/site-packages/requests/sessions.py\", line 530, in request\n",
      "    resp = self.send(prep, **send_kwargs)\n",
      "  File \"/Users/gurvindersingh/opt/anaconda3/envs/tf_2.0/lib/python3.7/site-packages/requests/sessions.py\", line 643, in send\n",
      "    r = adapter.send(request, **kwargs)\n",
      "  File \"/Users/gurvindersingh/opt/anaconda3/envs/tf_2.0/lib/python3.7/site-packages/requests/adapters.py\", line 449, in send\n",
      "    timeout=timeout\n",
      "  File \"/Users/gurvindersingh/opt/anaconda3/envs/tf_2.0/lib/python3.7/site-packages/urllib3/connectionpool.py\", line 672, in urlopen\n",
      "    chunked=chunked,\n",
      "  File \"/Users/gurvindersingh/opt/anaconda3/envs/tf_2.0/lib/python3.7/site-packages/urllib3/connectionpool.py\", line 376, in _make_request\n",
      "    self._validate_conn(conn)\n",
      "  File \"/Users/gurvindersingh/opt/anaconda3/envs/tf_2.0/lib/python3.7/site-packages/urllib3/connectionpool.py\", line 994, in _validate_conn\n",
      "    conn.connect()\n",
      "  File \"/Users/gurvindersingh/opt/anaconda3/envs/tf_2.0/lib/python3.7/site-packages/urllib3/connection.py\", line 360, in connect\n",
      "    ssl_context=context,\n",
      "  File \"/Users/gurvindersingh/opt/anaconda3/envs/tf_2.0/lib/python3.7/site-packages/urllib3/util/ssl_.py\", line 370, in ssl_wrap_socket\n",
      "    return context.wrap_socket(sock, server_hostname=server_hostname)\n",
      "  File \"/Users/gurvindersingh/opt/anaconda3/envs/tf_2.0/lib/python3.7/ssl.py\", line 423, in wrap_socket\n",
      "    session=session\n",
      "  File \"/Users/gurvindersingh/opt/anaconda3/envs/tf_2.0/lib/python3.7/ssl.py\", line 870, in _create\n",
      "    self.do_handshake()\n",
      "  File \"/Users/gurvindersingh/opt/anaconda3/envs/tf_2.0/lib/python3.7/ssl.py\", line 1139, in do_handshake\n",
      "    self._sslobj.do_handshake()\n",
      "KeyboardInterrupt\n"
     ]
    },
    {
     "name": "stdout",
     "output_type": "stream",
     "text": [
      "Exception in uploading:  review_0414.json\n",
      "Total Files Uploaded:  0\n",
      "Exception in uploading:  review_0101.json\n",
      "Total Files Uploaded:  0\n"
     ]
    },
    {
     "name": "stderr",
     "output_type": "stream",
     "text": [
      "ERROR:root:Error in service call\n",
      "Traceback (most recent call last):\n",
      "  File \"/Users/gurvindersingh/opt/anaconda3/envs/tf_2.0/lib/python3.7/site-packages/ibm_cloud_sdk_core/base_service.py\", line 208, in send\n",
      "    response = requests.request(**request, cookies=self.jar, **kwargs)\n",
      "  File \"/Users/gurvindersingh/opt/anaconda3/envs/tf_2.0/lib/python3.7/site-packages/requests/api.py\", line 61, in request\n",
      "    return session.request(method=method, url=url, **kwargs)\n",
      "  File \"/Users/gurvindersingh/opt/anaconda3/envs/tf_2.0/lib/python3.7/site-packages/requests/sessions.py\", line 530, in request\n",
      "    resp = self.send(prep, **send_kwargs)\n",
      "  File \"/Users/gurvindersingh/opt/anaconda3/envs/tf_2.0/lib/python3.7/site-packages/requests/sessions.py\", line 643, in send\n",
      "    r = adapter.send(request, **kwargs)\n",
      "  File \"/Users/gurvindersingh/opt/anaconda3/envs/tf_2.0/lib/python3.7/site-packages/requests/adapters.py\", line 449, in send\n",
      "    timeout=timeout\n",
      "  File \"/Users/gurvindersingh/opt/anaconda3/envs/tf_2.0/lib/python3.7/site-packages/urllib3/connectionpool.py\", line 672, in urlopen\n",
      "    chunked=chunked,\n",
      "  File \"/Users/gurvindersingh/opt/anaconda3/envs/tf_2.0/lib/python3.7/site-packages/urllib3/connectionpool.py\", line 376, in _make_request\n",
      "    self._validate_conn(conn)\n",
      "  File \"/Users/gurvindersingh/opt/anaconda3/envs/tf_2.0/lib/python3.7/site-packages/urllib3/connectionpool.py\", line 994, in _validate_conn\n",
      "    conn.connect()\n",
      "  File \"/Users/gurvindersingh/opt/anaconda3/envs/tf_2.0/lib/python3.7/site-packages/urllib3/connection.py\", line 360, in connect\n",
      "    ssl_context=context,\n",
      "  File \"/Users/gurvindersingh/opt/anaconda3/envs/tf_2.0/lib/python3.7/site-packages/urllib3/util/ssl_.py\", line 370, in ssl_wrap_socket\n",
      "    return context.wrap_socket(sock, server_hostname=server_hostname)\n",
      "  File \"/Users/gurvindersingh/opt/anaconda3/envs/tf_2.0/lib/python3.7/ssl.py\", line 423, in wrap_socket\n",
      "    session=session\n",
      "  File \"/Users/gurvindersingh/opt/anaconda3/envs/tf_2.0/lib/python3.7/ssl.py\", line 870, in _create\n",
      "    self.do_handshake()\n",
      "  File \"/Users/gurvindersingh/opt/anaconda3/envs/tf_2.0/lib/python3.7/ssl.py\", line 1139, in do_handshake\n",
      "    self._sslobj.do_handshake()\n",
      "KeyboardInterrupt\n",
      "ERROR:root:Error in service call\n",
      "Traceback (most recent call last):\n",
      "  File \"/Users/gurvindersingh/opt/anaconda3/envs/tf_2.0/lib/python3.7/site-packages/ibm_cloud_sdk_core/base_service.py\", line 208, in send\n",
      "    response = requests.request(**request, cookies=self.jar, **kwargs)\n",
      "  File \"/Users/gurvindersingh/opt/anaconda3/envs/tf_2.0/lib/python3.7/site-packages/requests/api.py\", line 61, in request\n",
      "    return session.request(method=method, url=url, **kwargs)\n",
      "  File \"/Users/gurvindersingh/opt/anaconda3/envs/tf_2.0/lib/python3.7/site-packages/requests/sessions.py\", line 530, in request\n",
      "    resp = self.send(prep, **send_kwargs)\n",
      "  File \"/Users/gurvindersingh/opt/anaconda3/envs/tf_2.0/lib/python3.7/site-packages/requests/sessions.py\", line 643, in send\n",
      "    r = adapter.send(request, **kwargs)\n",
      "  File \"/Users/gurvindersingh/opt/anaconda3/envs/tf_2.0/lib/python3.7/site-packages/requests/adapters.py\", line 449, in send\n",
      "    timeout=timeout\n",
      "  File \"/Users/gurvindersingh/opt/anaconda3/envs/tf_2.0/lib/python3.7/site-packages/urllib3/connectionpool.py\", line 672, in urlopen\n",
      "    chunked=chunked,\n",
      "  File \"/Users/gurvindersingh/opt/anaconda3/envs/tf_2.0/lib/python3.7/site-packages/urllib3/connectionpool.py\", line 376, in _make_request\n",
      "    self._validate_conn(conn)\n",
      "  File \"/Users/gurvindersingh/opt/anaconda3/envs/tf_2.0/lib/python3.7/site-packages/urllib3/connectionpool.py\", line 994, in _validate_conn\n",
      "    conn.connect()\n",
      "  File \"/Users/gurvindersingh/opt/anaconda3/envs/tf_2.0/lib/python3.7/site-packages/urllib3/connection.py\", line 360, in connect\n",
      "    ssl_context=context,\n",
      "  File \"/Users/gurvindersingh/opt/anaconda3/envs/tf_2.0/lib/python3.7/site-packages/urllib3/util/ssl_.py\", line 370, in ssl_wrap_socket\n",
      "    return context.wrap_socket(sock, server_hostname=server_hostname)\n",
      "  File \"/Users/gurvindersingh/opt/anaconda3/envs/tf_2.0/lib/python3.7/ssl.py\", line 423, in wrap_socket\n",
      "    session=session\n",
      "  File \"/Users/gurvindersingh/opt/anaconda3/envs/tf_2.0/lib/python3.7/ssl.py\", line 870, in _create\n",
      "    self.do_handshake()\n",
      "  File \"/Users/gurvindersingh/opt/anaconda3/envs/tf_2.0/lib/python3.7/ssl.py\", line 1139, in do_handshake\n",
      "    self._sslobj.do_handshake()\n",
      "KeyboardInterrupt\n"
     ]
    },
    {
     "name": "stdout",
     "output_type": "stream",
     "text": [
      "Exception in uploading:  review_0551.json\n",
      "Total Files Uploaded:  0\n",
      "Exception in uploading:  review_0802.json\n",
      "Total Files Uploaded:  0\n"
     ]
    },
    {
     "name": "stderr",
     "output_type": "stream",
     "text": [
      "ERROR:root:Error in service call\n",
      "Traceback (most recent call last):\n",
      "  File \"/Users/gurvindersingh/opt/anaconda3/envs/tf_2.0/lib/python3.7/site-packages/ibm_cloud_sdk_core/base_service.py\", line 208, in send\n",
      "    response = requests.request(**request, cookies=self.jar, **kwargs)\n",
      "  File \"/Users/gurvindersingh/opt/anaconda3/envs/tf_2.0/lib/python3.7/site-packages/requests/api.py\", line 61, in request\n",
      "    return session.request(method=method, url=url, **kwargs)\n",
      "  File \"/Users/gurvindersingh/opt/anaconda3/envs/tf_2.0/lib/python3.7/site-packages/requests/sessions.py\", line 530, in request\n",
      "    resp = self.send(prep, **send_kwargs)\n",
      "  File \"/Users/gurvindersingh/opt/anaconda3/envs/tf_2.0/lib/python3.7/site-packages/requests/sessions.py\", line 643, in send\n",
      "    r = adapter.send(request, **kwargs)\n",
      "  File \"/Users/gurvindersingh/opt/anaconda3/envs/tf_2.0/lib/python3.7/site-packages/requests/adapters.py\", line 449, in send\n",
      "    timeout=timeout\n",
      "  File \"/Users/gurvindersingh/opt/anaconda3/envs/tf_2.0/lib/python3.7/site-packages/urllib3/connectionpool.py\", line 672, in urlopen\n",
      "    chunked=chunked,\n",
      "  File \"/Users/gurvindersingh/opt/anaconda3/envs/tf_2.0/lib/python3.7/site-packages/urllib3/connectionpool.py\", line 376, in _make_request\n",
      "    self._validate_conn(conn)\n",
      "  File \"/Users/gurvindersingh/opt/anaconda3/envs/tf_2.0/lib/python3.7/site-packages/urllib3/connectionpool.py\", line 994, in _validate_conn\n",
      "    conn.connect()\n",
      "  File \"/Users/gurvindersingh/opt/anaconda3/envs/tf_2.0/lib/python3.7/site-packages/urllib3/connection.py\", line 360, in connect\n",
      "    ssl_context=context,\n",
      "  File \"/Users/gurvindersingh/opt/anaconda3/envs/tf_2.0/lib/python3.7/site-packages/urllib3/util/ssl_.py\", line 370, in ssl_wrap_socket\n",
      "    return context.wrap_socket(sock, server_hostname=server_hostname)\n",
      "  File \"/Users/gurvindersingh/opt/anaconda3/envs/tf_2.0/lib/python3.7/ssl.py\", line 423, in wrap_socket\n",
      "    session=session\n",
      "  File \"/Users/gurvindersingh/opt/anaconda3/envs/tf_2.0/lib/python3.7/ssl.py\", line 870, in _create\n",
      "    self.do_handshake()\n",
      "  File \"/Users/gurvindersingh/opt/anaconda3/envs/tf_2.0/lib/python3.7/ssl.py\", line 1139, in do_handshake\n",
      "    self._sslobj.do_handshake()\n",
      "KeyboardInterrupt\n",
      "ERROR:root:Error in service call\n",
      "Traceback (most recent call last):\n",
      "  File \"/Users/gurvindersingh/opt/anaconda3/envs/tf_2.0/lib/python3.7/site-packages/ibm_cloud_sdk_core/base_service.py\", line 208, in send\n",
      "    response = requests.request(**request, cookies=self.jar, **kwargs)\n",
      "  File \"/Users/gurvindersingh/opt/anaconda3/envs/tf_2.0/lib/python3.7/site-packages/requests/api.py\", line 61, in request\n",
      "    return session.request(method=method, url=url, **kwargs)\n",
      "  File \"/Users/gurvindersingh/opt/anaconda3/envs/tf_2.0/lib/python3.7/site-packages/requests/sessions.py\", line 530, in request\n",
      "    resp = self.send(prep, **send_kwargs)\n",
      "  File \"/Users/gurvindersingh/opt/anaconda3/envs/tf_2.0/lib/python3.7/site-packages/requests/sessions.py\", line 643, in send\n",
      "    r = adapter.send(request, **kwargs)\n",
      "  File \"/Users/gurvindersingh/opt/anaconda3/envs/tf_2.0/lib/python3.7/site-packages/requests/adapters.py\", line 449, in send\n",
      "    timeout=timeout\n",
      "  File \"/Users/gurvindersingh/opt/anaconda3/envs/tf_2.0/lib/python3.7/site-packages/urllib3/connectionpool.py\", line 672, in urlopen\n",
      "    chunked=chunked,\n",
      "  File \"/Users/gurvindersingh/opt/anaconda3/envs/tf_2.0/lib/python3.7/site-packages/urllib3/connectionpool.py\", line 376, in _make_request\n",
      "    self._validate_conn(conn)\n",
      "  File \"/Users/gurvindersingh/opt/anaconda3/envs/tf_2.0/lib/python3.7/site-packages/urllib3/connectionpool.py\", line 994, in _validate_conn\n",
      "    conn.connect()\n",
      "  File \"/Users/gurvindersingh/opt/anaconda3/envs/tf_2.0/lib/python3.7/site-packages/urllib3/connection.py\", line 360, in connect\n",
      "    ssl_context=context,\n",
      "  File \"/Users/gurvindersingh/opt/anaconda3/envs/tf_2.0/lib/python3.7/site-packages/urllib3/util/ssl_.py\", line 370, in ssl_wrap_socket\n",
      "    return context.wrap_socket(sock, server_hostname=server_hostname)\n",
      "  File \"/Users/gurvindersingh/opt/anaconda3/envs/tf_2.0/lib/python3.7/ssl.py\", line 423, in wrap_socket\n",
      "    session=session\n",
      "  File \"/Users/gurvindersingh/opt/anaconda3/envs/tf_2.0/lib/python3.7/ssl.py\", line 870, in _create\n",
      "    self.do_handshake()\n",
      "  File \"/Users/gurvindersingh/opt/anaconda3/envs/tf_2.0/lib/python3.7/ssl.py\", line 1139, in do_handshake\n",
      "    self._sslobj.do_handshake()\n",
      "KeyboardInterrupt\n"
     ]
    },
    {
     "name": "stdout",
     "output_type": "stream",
     "text": [
      "Exception in uploading:  review_1710.json\n",
      "Total Files Uploaded:  0\n",
      "Exception in uploading:  review_1340.json\n",
      "Total Files Uploaded:  0\n"
     ]
    },
    {
     "name": "stderr",
     "output_type": "stream",
     "text": [
      "ERROR:root:Error in service call\n",
      "Traceback (most recent call last):\n",
      "  File \"/Users/gurvindersingh/opt/anaconda3/envs/tf_2.0/lib/python3.7/site-packages/ibm_cloud_sdk_core/base_service.py\", line 208, in send\n",
      "    response = requests.request(**request, cookies=self.jar, **kwargs)\n",
      "  File \"/Users/gurvindersingh/opt/anaconda3/envs/tf_2.0/lib/python3.7/site-packages/requests/api.py\", line 61, in request\n",
      "    return session.request(method=method, url=url, **kwargs)\n",
      "  File \"/Users/gurvindersingh/opt/anaconda3/envs/tf_2.0/lib/python3.7/site-packages/requests/sessions.py\", line 530, in request\n",
      "    resp = self.send(prep, **send_kwargs)\n",
      "  File \"/Users/gurvindersingh/opt/anaconda3/envs/tf_2.0/lib/python3.7/site-packages/requests/sessions.py\", line 643, in send\n",
      "    r = adapter.send(request, **kwargs)\n",
      "  File \"/Users/gurvindersingh/opt/anaconda3/envs/tf_2.0/lib/python3.7/site-packages/requests/adapters.py\", line 449, in send\n",
      "    timeout=timeout\n",
      "  File \"/Users/gurvindersingh/opt/anaconda3/envs/tf_2.0/lib/python3.7/site-packages/urllib3/connectionpool.py\", line 672, in urlopen\n",
      "    chunked=chunked,\n",
      "  File \"/Users/gurvindersingh/opt/anaconda3/envs/tf_2.0/lib/python3.7/site-packages/urllib3/connectionpool.py\", line 376, in _make_request\n",
      "    self._validate_conn(conn)\n",
      "  File \"/Users/gurvindersingh/opt/anaconda3/envs/tf_2.0/lib/python3.7/site-packages/urllib3/connectionpool.py\", line 994, in _validate_conn\n",
      "    conn.connect()\n",
      "  File \"/Users/gurvindersingh/opt/anaconda3/envs/tf_2.0/lib/python3.7/site-packages/urllib3/connection.py\", line 360, in connect\n",
      "    ssl_context=context,\n",
      "  File \"/Users/gurvindersingh/opt/anaconda3/envs/tf_2.0/lib/python3.7/site-packages/urllib3/util/ssl_.py\", line 370, in ssl_wrap_socket\n",
      "    return context.wrap_socket(sock, server_hostname=server_hostname)\n",
      "  File \"/Users/gurvindersingh/opt/anaconda3/envs/tf_2.0/lib/python3.7/ssl.py\", line 423, in wrap_socket\n",
      "    session=session\n",
      "  File \"/Users/gurvindersingh/opt/anaconda3/envs/tf_2.0/lib/python3.7/ssl.py\", line 870, in _create\n",
      "    self.do_handshake()\n",
      "  File \"/Users/gurvindersingh/opt/anaconda3/envs/tf_2.0/lib/python3.7/ssl.py\", line 1139, in do_handshake\n",
      "    self._sslobj.do_handshake()\n",
      "KeyboardInterrupt\n"
     ]
    },
    {
     "name": "stdout",
     "output_type": "stream",
     "text": [
      "Exception in uploading:  review_1194.json\n",
      "Total Files Uploaded:  0\n"
     ]
    },
    {
     "name": "stderr",
     "output_type": "stream",
     "text": [
      "ERROR:root:Unable to upload document. Your plan is at the document count limit of 1000 documents. Please consider upgrading your plan to receive a higher document count limit.\n",
      "Traceback (most recent call last):\n",
      "  File \"/Users/gurvindersingh/opt/anaconda3/envs/tf_2.0/lib/python3.7/site-packages/ibm_cloud_sdk_core/base_service.py\", line 229, in send\n",
      "    response.status_code, error_message, http_response=response)\n",
      "ibm_cloud_sdk_core.api_exception.ApiException: Error: Unable to upload document. Your plan is at the document count limit of 1000 documents. Please consider upgrading your plan to receive a higher document count limit., Code: 400 , X-global-transaction-id: 9b5886a799f944eb4f89384c2f296f0f\n"
     ]
    },
    {
     "name": "stdout",
     "output_type": "stream",
     "text": [
      "Exception in uploading:  review_0785.json\n",
      "Total Files Uploaded:  0\n"
     ]
    },
    {
     "name": "stderr",
     "output_type": "stream",
     "text": [
      "ERROR:root:Unable to upload document. Your plan is at the document count limit of 1000 documents. Please consider upgrading your plan to receive a higher document count limit.\n",
      "Traceback (most recent call last):\n",
      "  File \"/Users/gurvindersingh/opt/anaconda3/envs/tf_2.0/lib/python3.7/site-packages/ibm_cloud_sdk_core/base_service.py\", line 229, in send\n",
      "    response.status_code, error_message, http_response=response)\n",
      "ibm_cloud_sdk_core.api_exception.ApiException: Error: Unable to upload document. Your plan is at the document count limit of 1000 documents. Please consider upgrading your plan to receive a higher document count limit., Code: 400 , X-global-transaction-id: 529e0ae381c39a444488b3f3c458ffb2\n"
     ]
    },
    {
     "name": "stdout",
     "output_type": "stream",
     "text": [
      "Exception in uploading:  review_1897.json\n",
      "Total Files Uploaded:  0\n"
     ]
    },
    {
     "name": "stderr",
     "output_type": "stream",
     "text": [
      "ERROR:root:Unable to upload document. Your plan is at the document count limit of 1000 documents. Please consider upgrading your plan to receive a higher document count limit.\n",
      "Traceback (most recent call last):\n",
      "  File \"/Users/gurvindersingh/opt/anaconda3/envs/tf_2.0/lib/python3.7/site-packages/ibm_cloud_sdk_core/base_service.py\", line 229, in send\n",
      "    response.status_code, error_message, http_response=response)\n",
      "ibm_cloud_sdk_core.api_exception.ApiException: Error: Unable to upload document. Your plan is at the document count limit of 1000 documents. Please consider upgrading your plan to receive a higher document count limit., Code: 400 , X-global-transaction-id: 1e925d0ed5a7dbbb1dc72e6c56070c5a\n"
     ]
    },
    {
     "name": "stdout",
     "output_type": "stream",
     "text": [
      "Exception in uploading:  review_1878.json\n",
      "Total Files Uploaded:  0\n"
     ]
    },
    {
     "name": "stderr",
     "output_type": "stream",
     "text": [
      "ERROR:root:Unable to upload document. Your plan is at the document count limit of 1000 documents. Please consider upgrading your plan to receive a higher document count limit.\n",
      "Traceback (most recent call last):\n",
      "  File \"/Users/gurvindersingh/opt/anaconda3/envs/tf_2.0/lib/python3.7/site-packages/ibm_cloud_sdk_core/base_service.py\", line 229, in send\n",
      "    response.status_code, error_message, http_response=response)\n",
      "ibm_cloud_sdk_core.api_exception.ApiException: Error: Unable to upload document. Your plan is at the document count limit of 1000 documents. Please consider upgrading your plan to receive a higher document count limit., Code: 400 , X-global-transaction-id: ecacd8f7ca5e0600088867bb60a2ef92\n"
     ]
    },
    {
     "name": "stdout",
     "output_type": "stream",
     "text": [
      "Exception in uploading:  review_0290.json\n",
      "Total Files Uploaded:  0\n"
     ]
    },
    {
     "name": "stderr",
     "output_type": "stream",
     "text": [
      "ERROR:root:Unable to upload document. Your plan is at the document count limit of 1000 documents. Please consider upgrading your plan to receive a higher document count limit.\n",
      "Traceback (most recent call last):\n",
      "  File \"/Users/gurvindersingh/opt/anaconda3/envs/tf_2.0/lib/python3.7/site-packages/ibm_cloud_sdk_core/base_service.py\", line 229, in send\n",
      "    response.status_code, error_message, http_response=response)\n",
      "ibm_cloud_sdk_core.api_exception.ApiException: Error: Unable to upload document. Your plan is at the document count limit of 1000 documents. Please consider upgrading your plan to receive a higher document count limit., Code: 400 , X-global-transaction-id: f4dfd483a47fd88f935ef2ea37d43f60\n"
     ]
    },
    {
     "name": "stdout",
     "output_type": "stream",
     "text": [
      "Exception in uploading:  review_1481.json\n",
      "Total Files Uploaded:  0\n"
     ]
    },
    {
     "name": "stderr",
     "output_type": "stream",
     "text": [
      "ERROR:root:Unable to upload document. Your plan is at the document count limit of 1000 documents. Please consider upgrading your plan to receive a higher document count limit.\n",
      "Traceback (most recent call last):\n",
      "  File \"/Users/gurvindersingh/opt/anaconda3/envs/tf_2.0/lib/python3.7/site-packages/ibm_cloud_sdk_core/base_service.py\", line 229, in send\n",
      "    response.status_code, error_message, http_response=response)\n",
      "ibm_cloud_sdk_core.api_exception.ApiException: Error: Unable to upload document. Your plan is at the document count limit of 1000 documents. Please consider upgrading your plan to receive a higher document count limit., Code: 400 , X-global-transaction-id: 0a61613e4d8ae5261014b882be8703f3\n"
     ]
    },
    {
     "name": "stdout",
     "output_type": "stream",
     "text": [
      "Exception in uploading:  review_0443.json\n",
      "Total Files Uploaded:  0\n"
     ]
    },
    {
     "name": "stderr",
     "output_type": "stream",
     "text": [
      "ERROR:root:Unable to upload document. Your plan is at the document count limit of 1000 documents. Please consider upgrading your plan to receive a higher document count limit.\n",
      "Traceback (most recent call last):\n",
      "  File \"/Users/gurvindersingh/opt/anaconda3/envs/tf_2.0/lib/python3.7/site-packages/ibm_cloud_sdk_core/base_service.py\", line 229, in send\n",
      "    response.status_code, error_message, http_response=response)\n",
      "ibm_cloud_sdk_core.api_exception.ApiException: Error: Unable to upload document. Your plan is at the document count limit of 1000 documents. Please consider upgrading your plan to receive a higher document count limit., Code: 400 , X-global-transaction-id: c1f3c34e28e910398aa0c860a674a26d\n"
     ]
    },
    {
     "name": "stdout",
     "output_type": "stream",
     "text": [
      "Exception in uploading:  review_0013.json\n",
      "Total Files Uploaded:  0\n"
     ]
    },
    {
     "name": "stderr",
     "output_type": "stream",
     "text": [
      "ERROR:root:Unable to upload document. Your plan is at the document count limit of 1000 documents. Please consider upgrading your plan to receive a higher document count limit.\n",
      "Traceback (most recent call last):\n",
      "  File \"/Users/gurvindersingh/opt/anaconda3/envs/tf_2.0/lib/python3.7/site-packages/ibm_cloud_sdk_core/base_service.py\", line 229, in send\n",
      "    response.status_code, error_message, http_response=response)\n",
      "ibm_cloud_sdk_core.api_exception.ApiException: Error: Unable to upload document. Your plan is at the document count limit of 1000 documents. Please consider upgrading your plan to receive a higher document count limit., Code: 400 , X-global-transaction-id: 516946880685c2872bc012a8b26bfd0e\n"
     ]
    },
    {
     "name": "stdout",
     "output_type": "stream",
     "text": [
      "Exception in uploading:  review_1252.json\n",
      "Total Files Uploaded:  0\n"
     ]
    },
    {
     "name": "stderr",
     "output_type": "stream",
     "text": [
      "ERROR:root:Unable to upload document. Your plan is at the document count limit of 1000 documents. Please consider upgrading your plan to receive a higher document count limit.\n",
      "Traceback (most recent call last):\n",
      "  File \"/Users/gurvindersingh/opt/anaconda3/envs/tf_2.0/lib/python3.7/site-packages/ibm_cloud_sdk_core/base_service.py\", line 229, in send\n",
      "    response.status_code, error_message, http_response=response)\n",
      "ibm_cloud_sdk_core.api_exception.ApiException: Error: Unable to upload document. Your plan is at the document count limit of 1000 documents. Please consider upgrading your plan to receive a higher document count limit., Code: 400 , X-global-transaction-id: c542d2396461853656df8feeda524b13\n"
     ]
    },
    {
     "name": "stdout",
     "output_type": "stream",
     "text": [
      "Exception in uploading:  review_0910.json\n",
      "Total Files Uploaded:  0\n"
     ]
    },
    {
     "name": "stderr",
     "output_type": "stream",
     "text": [
      "ERROR:root:Unable to upload document. Your plan is at the document count limit of 1000 documents. Please consider upgrading your plan to receive a higher document count limit.\n",
      "Traceback (most recent call last):\n",
      "  File \"/Users/gurvindersingh/opt/anaconda3/envs/tf_2.0/lib/python3.7/site-packages/ibm_cloud_sdk_core/base_service.py\", line 229, in send\n",
      "    response.status_code, error_message, http_response=response)\n",
      "ibm_cloud_sdk_core.api_exception.ApiException: Error: Unable to upload document. Your plan is at the document count limit of 1000 documents. Please consider upgrading your plan to receive a higher document count limit., Code: 400 , X-global-transaction-id: fca5ceace60feabe361496f423c326bd\n"
     ]
    },
    {
     "name": "stdout",
     "output_type": "stream",
     "text": [
      "Exception in uploading:  review_1602.json\n",
      "Total Files Uploaded:  0\n"
     ]
    },
    {
     "name": "stderr",
     "output_type": "stream",
     "text": [
      "ERROR:root:Unable to upload document. Your plan is at the document count limit of 1000 documents. Please consider upgrading your plan to receive a higher document count limit.\n",
      "Traceback (most recent call last):\n",
      "  File \"/Users/gurvindersingh/opt/anaconda3/envs/tf_2.0/lib/python3.7/site-packages/ibm_cloud_sdk_core/base_service.py\", line 229, in send\n",
      "    response.status_code, error_message, http_response=response)\n",
      "ibm_cloud_sdk_core.api_exception.ApiException: Error: Unable to upload document. Your plan is at the document count limit of 1000 documents. Please consider upgrading your plan to receive a higher document count limit., Code: 400 , X-global-transaction-id: 327491316b2a1fc921640c5fea90b1e8\n"
     ]
    },
    {
     "name": "stdout",
     "output_type": "stream",
     "text": [
      "Exception in uploading:  review_1317.json\n",
      "Total Files Uploaded:  0\n"
     ]
    },
    {
     "name": "stderr",
     "output_type": "stream",
     "text": [
      "ERROR:root:Unable to upload document. Your plan is at the document count limit of 1000 documents. Please consider upgrading your plan to receive a higher document count limit.\n",
      "Traceback (most recent call last):\n",
      "  File \"/Users/gurvindersingh/opt/anaconda3/envs/tf_2.0/lib/python3.7/site-packages/ibm_cloud_sdk_core/base_service.py\", line 229, in send\n",
      "    response.status_code, error_message, http_response=response)\n",
      "ibm_cloud_sdk_core.api_exception.ApiException: Error: Unable to upload document. Your plan is at the document count limit of 1000 documents. Please consider upgrading your plan to receive a higher document count limit., Code: 400 , X-global-transaction-id: 549dd7efb381b9ad8395da3a156ed4e7\n"
     ]
    },
    {
     "name": "stdout",
     "output_type": "stream",
     "text": [
      "Exception in uploading:  review_0855.json\n",
      "Total Files Uploaded:  0\n"
     ]
    },
    {
     "name": "stderr",
     "output_type": "stream",
     "text": [
      "ERROR:root:Unable to upload document. Your plan is at the document count limit of 1000 documents. Please consider upgrading your plan to receive a higher document count limit.\n",
      "Traceback (most recent call last):\n",
      "  File \"/Users/gurvindersingh/opt/anaconda3/envs/tf_2.0/lib/python3.7/site-packages/ibm_cloud_sdk_core/base_service.py\", line 229, in send\n",
      "    response.status_code, error_message, http_response=response)\n",
      "ibm_cloud_sdk_core.api_exception.ApiException: Error: Unable to upload document. Your plan is at the document count limit of 1000 documents. Please consider upgrading your plan to receive a higher document count limit., Code: 400 , X-global-transaction-id: 08a66ccf6ad2dd4faa50c0f706b36575\n"
     ]
    },
    {
     "name": "stdout",
     "output_type": "stream",
     "text": [
      "Exception in uploading:  review_1747.json\n",
      "Total Files Uploaded:  0\n"
     ]
    },
    {
     "name": "stderr",
     "output_type": "stream",
     "text": [
      "ERROR:root:Unable to upload document. Your plan is at the document count limit of 1000 documents. Please consider upgrading your plan to receive a higher document count limit.\n",
      "Traceback (most recent call last):\n",
      "  File \"/Users/gurvindersingh/opt/anaconda3/envs/tf_2.0/lib/python3.7/site-packages/ibm_cloud_sdk_core/base_service.py\", line 229, in send\n",
      "    response.status_code, error_message, http_response=response)\n",
      "ibm_cloud_sdk_core.api_exception.ApiException: Error: Unable to upload document. Your plan is at the document count limit of 1000 documents. Please consider upgrading your plan to receive a higher document count limit., Code: 400 , X-global-transaction-id: 95a2a8efa3be189d2f07a1989c1e3648\n"
     ]
    }
   ],
   "source": [
    "import json\n",
    "from os import walk\n",
    "from ibm_watson import DiscoveryV1\n",
    "from ibm_cloud_sdk_core.authenticators import IAMAuthenticator\n",
    "\n",
    "authenticator = IAMAuthenticator(api_key)\n",
    "discovery = DiscoveryV1(\n",
    "    version='2019-04-30',\n",
    "    authenticator=authenticator\n",
    ")\n",
    "\n",
    "discovery.set_service_url('https://gateway.watsonplatform.net/discovery/api')\n",
    "\n",
    "for (dirpath, dirnames, filenames) in walk(folder_path):\n",
    "    break\n",
    "\n",
    "count = 0\n",
    "files_uploaded = []\n",
    "for file in filenames:\n",
    "    count = count + 1\n",
    "    if count >= 660:\n",
    "        with open(folder_path+file) as fileinfo:\n",
    "            try:\n",
    "                add_doc = discovery.add_document(\n",
    "                    environment_id,\n",
    "                    collection_id,\n",
    "                    file=fileinfo).get_result()\n",
    "                files_uploaded.append(add_doc)\n",
    "                print(add_doc)\n",
    "            except:\n",
    "                print ('Exception in uploading: ', file)\n",
    "            finally:\n",
    "                print('Total Files Uploaded: ', len(files_uploaded))\n",
    "\n",
    "\n",
    "# print(json.dumps(add_doc, indent=2))"
   ]
  }
 ],
 "metadata": {
  "kernelspec": {
   "display_name": "Python 3",
   "language": "python",
   "name": "python3"
  },
  "language_info": {
   "codemirror_mode": {
    "name": "ipython",
    "version": 3
   },
   "file_extension": ".py",
   "mimetype": "text/x-python",
   "name": "python",
   "nbconvert_exporter": "python",
   "pygments_lexer": "ipython3",
   "version": "3.7.6"
  }
 },
 "nbformat": 4,
 "nbformat_minor": 4
}